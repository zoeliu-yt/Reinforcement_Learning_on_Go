{
 "cells": [
  {
   "cell_type": "markdown",
   "metadata": {},
   "source": [
    "# Install"
   ]
  },
  {
   "cell_type": "code",
   "execution_count": 24,
   "metadata": {},
   "outputs": [],
   "source": [
    "import os\n",
    "os.chdir('./GymGo-master')"
   ]
  },
  {
   "cell_type": "code",
   "execution_count": 25,
   "metadata": {},
   "outputs": [
    {
     "name": "stdout",
     "output_type": "stream",
     "text": [
      "Obtaining file:///Users/yuetongliu/Desktop/Reinforcement_Learning_on_Go/Code/14_02_24_Go/GymGo-master\n",
      "Requirement already satisfied: gym in /opt/anaconda3/lib/python3.8/site-packages (from gym-go==0.0.1) (0.18.0)\n",
      "Requirement already satisfied: Pillow<=7.2.0 in /opt/anaconda3/lib/python3.8/site-packages (from gym->gym-go==0.0.1) (7.2.0)\n",
      "Requirement already satisfied: cloudpickle<1.7.0,>=1.2.0 in /opt/anaconda3/lib/python3.8/site-packages (from gym->gym-go==0.0.1) (1.6.0)\n",
      "Requirement already satisfied: numpy>=1.10.4 in /opt/anaconda3/lib/python3.8/site-packages (from gym->gym-go==0.0.1) (1.19.2)\n",
      "Requirement already satisfied: pyglet<=1.5.0,>=1.4.0 in /opt/anaconda3/lib/python3.8/site-packages (from gym->gym-go==0.0.1) (1.5.0)\n",
      "Requirement already satisfied: scipy in /opt/anaconda3/lib/python3.8/site-packages (from gym->gym-go==0.0.1) (1.5.2)\n",
      "Requirement already satisfied: future in /opt/anaconda3/lib/python3.8/site-packages (from pyglet<=1.5.0,>=1.4.0->gym->gym-go==0.0.1) (0.18.2)\n",
      "Installing collected packages: gym-go\n",
      "  Attempting uninstall: gym-go\n",
      "    Found existing installation: gym-go 0.0.1\n",
      "    Uninstalling gym-go-0.0.1:\n",
      "      Successfully uninstalled gym-go-0.0.1\n",
      "  Running setup.py develop for gym-go\n",
      "Successfully installed gym-go\n"
     ]
    }
   ],
   "source": [
    "! pip install -e ."
   ]
  },
  {
   "cell_type": "markdown",
   "metadata": {},
   "source": [
    "# Baseline with different size\n",
    "\n",
    "1000 simulation on board 3*3, 5*5, and 7*7\n",
    "According to the density plot, the game is biased on black size but the bias decreases as the size of the board increase. Moreover, komi, a bias score constant to balance the advantage of black going first."
   ]
  },
  {
   "cell_type": "code",
   "execution_count": 33,
   "metadata": {},
   "outputs": [],
   "source": [
    "import gym\n",
    "\n",
    "import matplotlib.pyplot as plt\n",
    "import seaborn as sns\n",
    "from pylab import *\n",
    "from collections import defaultdict\n",
    "import random"
   ]
  },
  {
   "cell_type": "code",
   "execution_count": 28,
   "metadata": {},
   "outputs": [],
   "source": [
    "win_3 = []\n",
    "diff_3 = []\n",
    "win_5 = []\n",
    "diff_5 = []\n",
    "win_7 = []\n",
    "diff_7 = []\n",
    "for i in range(1000):\n",
    "    # Initialize environment\n",
    "    go_env3 = gym.make('gym_go:go-v0', size=3, reward_method = \"heuristic\")\n",
    "    go_env5 = gym.make('gym_go:go-v0', size=5, reward_method = \"heuristic\")\n",
    "    go_env7 = gym.make('gym_go:go-v0', size=7, reward_method = \"heuristic\")\n",
    "\n",
    "    # 3*3\n",
    "    done = False\n",
    "    while not done:\n",
    "    #go_env.render(mode=\"terminal\")\n",
    "    # black\n",
    "        action = go_env3.uniform_random_action()\n",
    "        state, reward, done, info = go_env3.step(action)\n",
    "        diff_3.append(reward/9)\n",
    "        \n",
    "        if go_env3.game_ended():\n",
    "            break\n",
    "        \n",
    "    # white    \n",
    "        action = go_env3.uniform_random_action()\n",
    "        state, reward, done, info = go_env3.step(action)\n",
    "    \n",
    "    # winning rate \n",
    "    if reward > 0:\n",
    "        win_3.append(1)\n",
    "    elif reward <0:\n",
    "        win_3.append(-1)\n",
    "    else:\n",
    "        win_3.append(0)\n",
    "    \n",
    "    # 5*5\n",
    "    done = False\n",
    "    while not done:\n",
    "    #go_env.render(mode=\"terminal\")\n",
    "    # black\n",
    "        action = go_env5.uniform_random_action()\n",
    "        state, reward, done, info = go_env5.step(action)\n",
    "        diff_5.append(reward/25)\n",
    "        \n",
    "        if go_env5.game_ended():\n",
    "            break\n",
    "        \n",
    "    # white    \n",
    "        action = go_env5.uniform_random_action()\n",
    "        state, reward, done, info = go_env5.step(action)\n",
    "        \n",
    "    if reward > 0:\n",
    "        win_5.append(1)\n",
    "    elif reward <0:\n",
    "        win_5.append(-1)\n",
    "    else:\n",
    "        win_5.append(0)\n",
    "    \n",
    "    # 7*7\n",
    "    done = False\n",
    "    while not done:\n",
    "    #go_env.render(mode=\"terminal\")\n",
    "    # black\n",
    "        action = go_env7.uniform_random_action()\n",
    "        state, reward, done, info = go_env7.step(action)\n",
    "        diff_7.append(reward/49)\n",
    "        if go_env7.game_ended():\n",
    "            break\n",
    "        \n",
    "    # white    \n",
    "        action = go_env7.uniform_random_action()\n",
    "        state, reward, done, info = go_env7.step(action)\n",
    "    if reward > 0:\n",
    "        win_7.append(1)\n",
    "    elif reward <0:\n",
    "        win_7.append(-1)\n",
    "    else:\n",
    "        win_7.append(0)    "
   ]
  },
  {
   "cell_type": "code",
   "execution_count": 29,
   "metadata": {},
   "outputs": [
    {
     "data": {
      "text/plain": [
       "(7568, 19286, 37628)"
      ]
     },
     "execution_count": 29,
     "metadata": {},
     "output_type": "execute_result"
    }
   ],
   "source": [
    "len(diff_3),len(diff_5),len(diff_7)\n"
   ]
  },
  {
   "cell_type": "code",
   "execution_count": 34,
   "metadata": {},
   "outputs": [
    {
     "name": "stderr",
     "output_type": "stream",
     "text": [
      "/opt/anaconda3/lib/python3.8/site-packages/seaborn/distributions.py:2551: FutureWarning: `distplot` is a deprecated function and will be removed in a future version. Please adapt your code to use either `displot` (a figure-level function with similar flexibility) or `histplot` (an axes-level function for histograms).\n",
      "  warnings.warn(msg, FutureWarning)\n",
      "/opt/anaconda3/lib/python3.8/site-packages/seaborn/distributions.py:2551: FutureWarning: `distplot` is a deprecated function and will be removed in a future version. Please adapt your code to use either `displot` (a figure-level function with similar flexibility) or `histplot` (an axes-level function for histograms).\n",
      "  warnings.warn(msg, FutureWarning)\n",
      "/opt/anaconda3/lib/python3.8/site-packages/seaborn/distributions.py:2551: FutureWarning: `distplot` is a deprecated function and will be removed in a future version. Please adapt your code to use either `displot` (a figure-level function with similar flexibility) or `histplot` (an axes-level function for histograms).\n",
      "  warnings.warn(msg, FutureWarning)\n"
     ]
    },
    {
     "data": {
      "image/png": "[encoded data removed]",
      "text/plain": [
       "<Figure size 1152x288 with 3 Axes>"
      ]
     },
     "metadata": {},
     "output_type": "display_data"
    }
   ],
   "source": [
    "diff_3_ = random.sample(diff_3,7000)\n",
    "diff_5_ = random.sample(diff_5,7000)\n",
    "diff_7_ = random.sample(diff_7,7000)\n",
    "\n",
    "sns.set(rc={\"figure.figsize\": (16, 4)}); \n",
    "\n",
    "subplot(1,3,1)\n",
    "ax = sns.distplot(diff_3_,bins=20)\n",
    "plt.xlabel(\"3*3\")\n",
    "plt.xlim(-1,1)\n",
    "plt.ylim(0,6)\n",
    "\n",
    "subplot(1,3,2)\n",
    "ax = sns.distplot(diff_5_,bins=20)\n",
    "plt.xlabel(\"5*5\")\n",
    "plt.xlim(-1,1)\n",
    "plt.ylim(0,6)\n",
    "\n",
    "subplot(1,3,3)\n",
    "ax = sns.distplot(diff_7_,bins=20)\n",
    "plt.xlabel(\"7*7\")\n",
    "plt.xlim(-1,1)\n",
    "plt.ylim(0,6)\n",
    "\n",
    "plt.show()"
   ]
  },
  {
   "cell_type": "markdown",
   "metadata": {},
   "source": [
    "These three density plot is the intermediate reward for each board during 1000 simulations. \n",
    "The reward is normalized into range (-1, 1)."
   ]
  },
  {
   "cell_type": "code",
   "execution_count": 311,
   "metadata": {},
   "outputs": [
    {
     "name": "stdout",
     "output_type": "stream",
     "text": [
      "516 484 0\n",
      "528 472 0\n",
      "514 486 0\n"
     ]
    }
   ],
   "source": [
    "print(win_3.count(1),win_3.count(-1),win_3.count(0))\n",
    "print(win_5.count(1),win_5.count(-1),win_5.count(0))\n",
    "print(win_7.count(1),win_7.count(-1),win_7.count(0))"
   ]
  },
  {
   "cell_type": "markdown",
   "metadata": {},
   "source": [
    "# Naive Q Learning"
   ]
  },
  {
   "cell_type": "code",
   "execution_count": 359,
   "metadata": {},
   "outputs": [],
   "source": [
    "\n",
    "\n",
    "Q = defaultdict(float)\n",
    "\n",
    "gamma = 0.99  # Discounting factor\n",
    "alpha = 0.5  # soft update param\n",
    "#actions = range(env.action_space.n) # all possible actions\n",
    "\n",
    "# Calculate Q Value    \n",
    "def update_Q(s, r, a, s_next, done, actions):\n",
    "    # s: observations\n",
    "    # r: reward \n",
    "    # a: actions\n",
    "    # s_next: same as s\n",
    "    # done: bool\n",
    "    \n",
    "    max_q_next = max([Q[s_next, a] for a in actions])  # get max Q value of (s', a')\n",
    "    \n",
    "    # Do not include the next state's value if currently at the terminal state.\n",
    "    Q[s, a] += alpha * (r + gamma * max_q_next * (1.0 - done) - Q[s, a]) # the Bellman equation to update Q value. \n",
    "    # If done is True, Q(s,a) = (1-alpha)*Q(s,a)\n"
   ]
  },
  {
   "cell_type": "code",
   "execution_count": 360,
   "metadata": {},
   "outputs": [],
   "source": [
    "epsilon = 0.1  # 10% chances to apply a random action\n",
    "\n",
    "def act(ob,actions): \n",
    "    if np.random.random() < epsilon:\n",
    "        # action_space.sample() is a convenient function to get a random action\n",
    "        # that is compatible with this given action space.\n",
    "        return go_env.uniform_random_action()\n",
    "\n",
    "    # Pick the action with highest q value.\n",
    "    qvals = {a: Q[ob, a] for a in actions}\n",
    "    max_q = max(qvals.values())  # get best Q value \n",
    "    # In case multiple actions have the same maximum q value.\n",
    "    actions_with_max_q = [a for a, q in qvals.items() if q == max_q] # range(2); max_q\n",
    "    return np.random.choice(actions_with_max_q)"
   ]
  },
  {
   "cell_type": "code",
   "execution_count": 361,
   "metadata": {},
   "outputs": [],
   "source": [
    "def moves(a,size): \n",
    "    if a == size**2:\n",
    "        return None\n",
    "    else:\n",
    "        return([int(np.floor(a/size)),a%size])      "
   ]
  },
  {
   "cell_type": "markdown",
   "metadata": {},
   "source": [
    "# Simulation"
   ]
  },
  {
   "cell_type": "code",
   "execution_count": 362,
   "metadata": {},
   "outputs": [],
   "source": [
    "diff = []\n",
    "win =[]\n",
    "size = 5\n",
    "\n",
    "    # Game loop\n",
    "for i in range(1000): \n",
    "    go_env = gym.make('gym_go:go-v0', size=size, reward_method = \"heuristic\")\n",
    "    done = False\n",
    "    \n",
    "    while not done:\n",
    "    #go_env.render(mode=\"terminal\")\n",
    "    # black\n",
    "        ob = go_env.state_\n",
    "        ob = int(\"\".join(str(x) for x in np.intc(ob.flatten())), 2)\n",
    "       #actions = moves(go_env.valid_moves())\n",
    "        a = act(ob, np.argwhere(go_env.valid_moves()).flatten().tolist())\n",
    "    \n",
    "        state, r, done, info = go_env.step(moves(a,size))\n",
    "        ob_next = go_env.state_\n",
    "        ob_next = int(\"\".join(str(x) for x in np.intc(ob_next.flatten())), 2) \n",
    "        #actions = moves(go_env.valid_moves())\n",
    "        update_Q(ob, r, a, ob_next, done, np.argwhere(go_env.valid_moves()).flatten().tolist())\n",
    "    \n",
    "        diff.append(reward/size**2)\n",
    "        if go_env.game_ended():\n",
    "            break\n",
    "        \n",
    "    # white    \n",
    "        action = go_env.uniform_random_action()\n",
    "        state, reward, done, info = go_env.step(action)\n",
    "        \n",
    "    if reward > 0:\n",
    "        win.append(1)\n",
    "    elif reward <0:\n",
    "        win.append(-1)\n",
    "    else:\n",
    "        win.append(0)\n",
    "        \n",
    "    \n"
   ]
  },
  {
   "cell_type": "code",
   "execution_count": 364,
   "metadata": {},
   "outputs": [
    {
     "name": "stderr",
     "output_type": "stream",
     "text": [
      "/opt/anaconda3/lib/python3.8/site-packages/seaborn/distributions.py:2551: FutureWarning: `distplot` is a deprecated function and will be removed in a future version. Please adapt your code to use either `displot` (a figure-level function with similar flexibility) or `histplot` (an axes-level function for histograms).\n",
      "  warnings.warn(msg, FutureWarning)\n",
      "/opt/anaconda3/lib/python3.8/site-packages/seaborn/distributions.py:2551: FutureWarning: `distplot` is a deprecated function and will be removed in a future version. Please adapt your code to use either `displot` (a figure-level function with similar flexibility) or `histplot` (an axes-level function for histograms).\n",
      "  warnings.warn(msg, FutureWarning)\n"
     ]
    },
    {
     "data": {
      "image/png": "[encoded data removed]",
      "text/plain": [
       "<Figure size 1152x288 with 2 Axes>"
      ]
     },
     "metadata": {},
     "output_type": "display_data"
    }
   ],
   "source": [
    "sns.set(rc={\"figure.figsize\": (16, 4)}); \n",
    "\n",
    "subplot(1,2,1)\n",
    "ax = sns.distplot(diff,bins=20)\n",
    "plt.xlabel(\"Naive-Q\")\n",
    "plt.xlim(-1,1)\n",
    "plt.ylim(0,6)\n",
    "\n",
    "subplot(1,2,2)                           \n",
    "ax = sns.distplot(diff_5,bins=20)\n",
    "plt.xlabel(\"Self-play\")\n",
    "plt.xlim(-1,1)\n",
    "plt.ylim(0,6)\n",
    "\n",
    "plt.show()"
   ]
  },
  {
   "cell_type": "code",
   "execution_count": 353,
   "metadata": {},
   "outputs": [
    {
     "name": "stdout",
     "output_type": "stream",
     "text": [
      "5122 4651 227\n",
      "528 472 0\n"
     ]
    }
   ],
   "source": [
    "print(win.count(1),win.count(-1),win.count(0))\n",
    "print(win_5.count(1),win_5.count(-1),win_5.count(0))"
   ]
  },
  {
   "cell_type": "markdown",
   "metadata": {},
   "source": [
    "The expected value of intermidiate reward doesn't have a signification increase, even if the I increase the number of simulation. However, it reduces the bias by letting the black play first.\n",
    "TODO: optimize algorithm, try it on smaller board, tune hyperparamster."
   ]
  }
 ],
 "metadata": {
  "kernelspec": {
   "display_name": "Python 3",
   "language": "python",
   "name": "python3"
  },
  "language_info": {
   "codemirror_mode": {
    "name": "ipython",
    "version": 3
   },
   "file_extension": ".py",
   "mimetype": "text/x-python",
   "name": "python",
   "nbconvert_exporter": "python",
   "pygments_lexer": "ipython3",
   "version": "3.8.5"
  }
 },
 "nbformat": 4,
 "nbformat_minor": 4
}
