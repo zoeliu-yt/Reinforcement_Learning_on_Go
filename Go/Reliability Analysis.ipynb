{
 "cells": [
  {
   "cell_type": "markdown",
   "metadata": {},
   "source": [
    "# Install"
   ]
  },
  {
   "cell_type": "code",
   "execution_count": 27,
   "metadata": {},
   "outputs": [
    {
     "ename": "FileNotFoundError",
     "evalue": "[Errno 2] No such file or directory: './GymGo-master'",
     "output_type": "error",
     "traceback": [
      "\u001b[0;31m---------------------------------------------------------------------------\u001b[0m",
      "\u001b[0;31mFileNotFoundError\u001b[0m                         Traceback (most recent call last)",
      "\u001b[0;32m<ipython-input-27-cc04a6dff540>\u001b[0m in \u001b[0;36m<module>\u001b[0;34m\u001b[0m\n\u001b[1;32m      1\u001b[0m \u001b[0;32mimport\u001b[0m \u001b[0mos\u001b[0m\u001b[0;34m\u001b[0m\u001b[0;34m\u001b[0m\u001b[0m\n\u001b[0;32m----> 2\u001b[0;31m \u001b[0mos\u001b[0m\u001b[0;34m.\u001b[0m\u001b[0mchdir\u001b[0m\u001b[0;34m(\u001b[0m\u001b[0;34m'./GymGo-master'\u001b[0m\u001b[0;34m)\u001b[0m\u001b[0;34m\u001b[0m\u001b[0;34m\u001b[0m\u001b[0m\n\u001b[0m",
      "\u001b[0;31mFileNotFoundError\u001b[0m: [Errno 2] No such file or directory: './GymGo-master'"
     ]
    }
   ],
   "source": [
    "import os\n",
    "os.chdir('./GymGo-master')"
   ]
  },
  {
   "cell_type": "code",
   "execution_count": 28,
   "metadata": {},
   "outputs": [],
   "source": [
    "#! pip install -e ."
   ]
  },
  {
   "cell_type": "code",
   "execution_count": 29,
   "metadata": {},
   "outputs": [],
   "source": [
    "import gym\n",
    "import random\n",
    "import pandas as pd\n",
    "import numpy as np\n",
    "from sklearn import preprocessing\n",
    "import math\n",
    "from gym_go import state_utils, govars\n",
    "\n",
    "import matplotlib.pyplot as plt\n",
    "import seaborn as sns\n",
    "\n",
    "from scipy.stats import iqr\n",
    "import pickle"
   ]
  },
  {
   "cell_type": "markdown",
   "metadata": {},
   "source": [
    "# env"
   ]
  },
  {
   "cell_type": "code",
   "execution_count": 32,
   "metadata": {},
   "outputs": [],
   "source": [
    "# sample a image\n",
    "go_env = gym.make('gym_go:go-v0', size=3, reward_method = \"heuristic\")\n",
    "go_env.step(2)\n",
    "state1 = go_env.state()[0:2]\n",
    "#state1"
   ]
  },
  {
   "cell_type": "code",
   "execution_count": 33,
   "metadata": {
    "scrolled": true
   },
   "outputs": [],
   "source": [
    "# 8 same symmetries\n",
    "def all_symmetries(image):\n",
    "    \"\"\"\n",
    "    :param image: A (C, BOARD_SIZE, BOARD_SIZE) numpy array, where C is any number\n",
    "    :return: All 8 orientations that are symmetrical in a Go game over the 2nd and 3rd axes\n",
    "    (i.e. rotations, flipping and combos of them)\n",
    "    \"\"\"\n",
    "    symmetries = []\n",
    "\n",
    "    for i in range(8):\n",
    "        x = image\n",
    "        if (i >> 0) % 2:\n",
    "            # Horizontal flip\n",
    "            x = np.flip(x, 2)\n",
    "        if (i >> 1) % 2:\n",
    "            # Vertical flip\n",
    "            x = np.flip(x, 1)\n",
    "        if (i >> 2) % 2:\n",
    "            # Rotation 90 degrees\n",
    "            x = np.rot90(x, axes=(1, 2))\n",
    "            \n",
    "        symmetries.append(x)\n",
    "\n",
    "    return symmetries\n",
    "#all_symmetries(state1)"
   ]
  },
  {
   "cell_type": "code",
   "execution_count": 35,
   "metadata": {},
   "outputs": [],
   "source": [
    "size = 3\n",
    "# one state to num\n",
    "def state2num(state1,size):\n",
    "    # state1 is a size*size*6 matrix\n",
    "    \n",
    "    \n",
    "    state1 = state1.astype(int)\n",
    "    state = state1[0:2].reshape(size**2*2)\n",
    "    num = int(\"\".join(str(x) for x in state), 2)\n",
    "    \n",
    "    return num\n",
    "state2num(state1, size)\n",
    "\n",
    "# all states to num\n",
    "def all_state2num(state1, size):\n",
    "    # state1 is a size*size*6 matrix\n",
    "    state1 = state1.astype(int)\n",
    "    all_b = all_symmetries(state1[0].reshape(1,size,size))\n",
    "    all_w = all_symmetries(state1[1].reshape(1,size,size))\n",
    "    ls = []\n",
    "    for i in range(8):\n",
    "        state = np.concatenate((all_b[i].reshape(size**2),all_w[i].reshape(size**2)), axis=None)\n",
    "        num = int(\"\".join(str(x) for x in state), 2)\n",
    "        ls.append(num)\n",
    "    return ls\n",
    "\n",
    "#state2num(state1, size), all_state2num(state1, size)"
   ]
  },
  {
   "cell_type": "code",
   "execution_count": 37,
   "metadata": {},
   "outputs": [],
   "source": [
    "ls = all_state2num(state1, size)\n",
    "l = dict()\n",
    "l[2048] = 0\n",
    "\n",
    "action = 9\n",
    "def symmetry_action(ls, l, action, size):\n",
    "    # ls is all symmetry fucntion\n",
    "    # l is all keys in value function\n",
    "    # action is an int\n",
    "    \n",
    "    # return rotated action and flag indicating if the state exists\n",
    "    flag = False\n",
    "    state = ls[0]\n",
    "    for i in range(len(ls)):\n",
    "        if ls[i] in l:\n",
    "            flag = True\n",
    "            if action == size**2:\n",
    "                state = ls[i]\n",
    "                break\n",
    "            \n",
    "            a = math.floor(action/size)\n",
    "            b = action%size\n",
    "            s = size - 1\n",
    "            if i == 1:\n",
    "                b = s-b\n",
    "            elif i == 2:\n",
    "                a = s-a\n",
    "            elif i == 3:\n",
    "                a = s-a\n",
    "                b = s-b\n",
    "            elif i == 4:\n",
    "                b = a\n",
    "                a = b\n",
    "            elif i == 5:\n",
    "                a = s-b\n",
    "                b = a\n",
    "            elif i == 6:\n",
    "                a = b\n",
    "                b = s-a\n",
    "            elif i == 7:\n",
    "                a = s-b\n",
    "                b = s-a\n",
    "            action = size * a + b\n",
    "            state = ls[i]\n",
    "            break\n",
    "    return action, state, flag\n",
    "[action, state, flag] = symmetry_action(ls, l, action, size)\n",
    "#action, state, flag"
   ]
  },
  {
   "cell_type": "code",
   "execution_count": 38,
   "metadata": {},
   "outputs": [],
   "source": [
    "def intersection(lst1, lst2):\n",
    "    lst3 = [value for value in lst1 if value in lst2]\n",
    "    return lst3"
   ]
  },
  {
   "cell_type": "code",
   "execution_count": 39,
   "metadata": {},
   "outputs": [],
   "source": [
    "def invalid_moves(state):\n",
    "    # return a fixed size binary vector\n",
    "    if game_ended(state):\n",
    "        return np.zeros(action_size(state))\n",
    "    return np.append(state[govars.INVD_CHNL].flatten(), 0)\n",
    "\n",
    "\n",
    "def valid_moves(state):\n",
    "    return 1 - invalid_moves(state)"
   ]
  },
  {
   "cell_type": "code",
   "execution_count": 40,
   "metadata": {},
   "outputs": [],
   "source": [
    "# Program\n",
    "class Learn(object):\n",
    "\n",
    "    # board size, value function, action function\n",
    "    def __init__(self, size):\n",
    "        self.size = size\n",
    "        # define state value function as a dict\n",
    "        # key is position of b and w\n",
    "        # value is state value (a number)\n",
    "        self.value_function = dict()\n",
    "        \n",
    "        # add new state if not exist\n",
    "        #if tuple(go_env.state()[0:2].reshape(size**2*2)) not in value_function: \n",
    "        #    value_function[tuple(go_env.state()[0:2].reshape(size**2*2))] = 0\n",
    "        \n",
    "        # define action value function as a dict\n",
    "        # key is position of b and w\n",
    "        # value is action value (an array)\n",
    "        self.action_function = dict()\n",
    "        \n",
    "        #if tuple(go_env.state()[0:2].reshape(size**2*2)) not in action_function:\n",
    "        #    action_function[tuple(go_env.state()[0:2].reshape(size**2*2))] = np.zeros(size**2+1)\n",
    "        \n",
    "        self.env = gym.make('gym_go:go-v0', size=self.size, reward_method = \"heuristic\")\n",
    "        \n",
    "        #self.state = self.env.state()[0:2].reshape(size**2*2)\n",
    "    \n",
    "    # helper\n",
    "    #def intersection(self, lst1, lst2):\n",
    "    #    lst3 = [value for value in lst1 if value in lst2]\n",
    "    #    return lst3\n",
    "    \n",
    "    ## load policy\n",
    "    def load_policy(self, dictionary):\n",
    "        self.action_function = dictionary\n",
    "        \n",
    "        \n",
    "\n",
    "    ## greedy policy\n",
    "    def apply_policy(self, states, epsilon):\n",
    "        \"\"\"\n",
    "        Apply the policy of the agent\n",
    "        Args:\n",
    "            state: tuple of length 2\n",
    "            epsilon: exploration probability, 0 for greedy behavior, 1 for pure exploration\n",
    "        Returns:\n",
    "            the selected action for the state under the current policy\n",
    "        \"\"\"\n",
    "        ## random\n",
    "        if np.random.uniform(0, 1) < epsilon:\n",
    "            action_index = self.env.uniform_random_action()\n",
    "        else: \n",
    "            # if not in action function, build a new one\n",
    "            \n",
    "            [x, state, flag] = symmetry_action(states, self.action_function, 0, self.size)\n",
    "            if not flag:\n",
    "                action_index = self.env.uniform_random_action()\n",
    "                #self.action_function[state] = np.zeros(self.size**2+1)\n",
    "            #if state not in self.action_function:\n",
    "            #    self.action_function[state] = np.zeros(self.size**2+1)\n",
    "            \n",
    "            else:\n",
    "                # actions with max value\n",
    "                greedy_action_value = np.max(self.action_function[state])\n",
    "                greedy_indices = [i for i, a in enumerate(self.action_function[state]) if\n",
    "                              a == greedy_action_value]\n",
    "\n",
    "                valid = np.nonzero(self.env.valid_moves())[0]\n",
    "\n",
    "                # overlap between max and valid action \n",
    "                #idx = intersection(greedy_indices, valid)\n",
    "                #if idx == []:\n",
    "                #    action_idx = self.size**2\n",
    "                #print(greedy_indices)\n",
    "                #else:\n",
    "                #    action_idx = np.random.choice(intersection(greedy_indices, valid))\n",
    "                action_idx = np.random.choice(greedy_indices)\n",
    "                [action_index, x, x] = symmetry_action(states, self.action_function, action_idx, self.size)\n",
    "                if action_index not in valid:\n",
    "                    action_index = self.env.uniform_random_action()\n",
    "        \n",
    "        \n",
    "        return action_index\n",
    "    \n",
    "    def sarsa_td(self, n_episodes=1000, alpha=0.01, gamma=0.9):\n",
    "        \"\"\"\n",
    "        Run the sarsa control algorithm (TD0), finding the optimal policy and action function\n",
    "        :param n_episodes: int, amount of episodes to train\n",
    "        :param alpha: learning rate\n",
    "        :param gamma: discount factor of future rewards\n",
    "        :return: finds the optimal policy for move chess\n",
    "        \"\"\"\n",
    "        \n",
    "        for k in range(n_episodes):\n",
    "            self.env = gym.make('gym_go:go-v0', size=self.size, reward_method = \"heuristic\")\n",
    "            \n",
    "            done = False\n",
    "            epsilon = max(1 / (1 + k), 0.05)\n",
    "            \n",
    "            while not done:\n",
    "                # current state - action idx\n",
    "                #state = self.env.state()[0:2].reshape(self.size**2*2)\n",
    "                # state = state2num(self.env.state(), self.size)\n",
    "            \n",
    "                states = all_state2num(self.env.state(),self.size)\n",
    "                action_index = self.apply_policy(states, epsilon)\n",
    "                \n",
    "                \n",
    "                # current state - action value\n",
    "                ## check all rotations\n",
    "                [action_idx, state, flag] = symmetry_action(states, self.action_function, action_index, self.size)\n",
    "                #print(action_idx, action_index)\n",
    "                if not flag:\n",
    "                    self.action_function[state] = np.zeros(self.size**2+1)\n",
    "                #print(states,action_idx)\n",
    "                action_value = self.action_function[state][action_idx]\n",
    "                \n",
    "                \n",
    "                # step\n",
    "                successor_state, reward, done, info = self.env.step(action_index)\n",
    "                \n",
    "                \n",
    "                # successor state - action idx\n",
    "                #successor_state = successor_state1[0:2].reshape(self.size**2*2)\n",
    "                #successor_state = state2num(successor_state1, self.size)\n",
    "                successor_states = all_state2num(successor_state, self.size)\n",
    "                successor_action_index = self.apply_policy(successor_states, epsilon)\n",
    "                \n",
    "                \n",
    "                \n",
    "                # successor state - action value\n",
    "                ## check all rotations\n",
    "                [successor_action_idx, successor_state, flag2] = symmetry_action(successor_states, \n",
    "                                                                                 self.action_function, \n",
    "                                                                                 successor_action_index,\n",
    "                                                                                self.size)\n",
    "                #print(successor_action_idx, successor_action_index)\n",
    "                if not flag2:\n",
    "                    self.action_function[successor_state] = np.zeros(self.size**2+1)\n",
    "                    \n",
    "                successor_action_value = self.action_function[successor_state][successor_action_idx]\n",
    "                \n",
    "                # update action value function\n",
    "                q_update = alpha * (reward + gamma * successor_action_value - action_value)\n",
    "                self.action_function[state][action_idx] += q_update\n",
    "                \n",
    "                if done:\n",
    "                    break\n",
    "                \n",
    "                # white\n",
    "                action = self.env.uniform_random_action()\n",
    "                state, reward, done, info = self.env.step(action)\n",
    "        "
   ]
  },
  {
   "cell_type": "markdown",
   "metadata": {},
   "source": [
    "# reward for random-policy"
   ]
  },
  {
   "cell_type": "code",
   "execution_count": 117,
   "metadata": {},
   "outputs": [
    {
     "ename": "TypeError",
     "evalue": "unhashable type: 'list'",
     "output_type": "error",
     "traceback": [
      "\u001b[0;31m---------------------------------------------------------------------------\u001b[0m",
      "\u001b[0;31mTypeError\u001b[0m                                 Traceback (most recent call last)",
      "\u001b[0;32m<ipython-input-117-2abeb7bf6209>\u001b[0m in \u001b[0;36m<module>\u001b[0;34m\u001b[0m\n\u001b[1;32m     12\u001b[0m         \u001b[0;32mwhile\u001b[0m \u001b[0;32mnot\u001b[0m \u001b[0mdone\u001b[0m\u001b[0;34m:\u001b[0m\u001b[0;34m\u001b[0m\u001b[0;34m\u001b[0m\u001b[0m\n\u001b[1;32m     13\u001b[0m             \u001b[0mall_state2num\u001b[0m\u001b[0;34m(\u001b[0m\u001b[0mnon\u001b[0m\u001b[0;34m.\u001b[0m\u001b[0menv\u001b[0m\u001b[0;34m.\u001b[0m\u001b[0mstate\u001b[0m\u001b[0;34m(\u001b[0m\u001b[0;34m)\u001b[0m\u001b[0;34m,\u001b[0m \u001b[0;36m3\u001b[0m\u001b[0;34m)\u001b[0m\u001b[0;34m\u001b[0m\u001b[0;34m\u001b[0m\u001b[0m\n\u001b[0;32m---> 14\u001b[0;31m             \u001b[0mvalue_non\u001b[0m\u001b[0;34m.\u001b[0m\u001b[0mappend\u001b[0m\u001b[0;34m(\u001b[0m\u001b[0mnp\u001b[0m\u001b[0;34m.\u001b[0m\u001b[0msum\u001b[0m\u001b[0;34m(\u001b[0m\u001b[0mnon\u001b[0m\u001b[0;34m.\u001b[0m\u001b[0maction_function\u001b[0m\u001b[0;34m[\u001b[0m\u001b[0mall_state2num\u001b[0m\u001b[0;34m(\u001b[0m\u001b[0mnon\u001b[0m\u001b[0;34m.\u001b[0m\u001b[0menv\u001b[0m\u001b[0;34m.\u001b[0m\u001b[0mstate\u001b[0m\u001b[0;34m(\u001b[0m\u001b[0;34m)\u001b[0m\u001b[0;34m,\u001b[0m \u001b[0;36m3\u001b[0m\u001b[0;34m)\u001b[0m\u001b[0;34m]\u001b[0m\u001b[0;34m)\u001b[0m\u001b[0;34m)\u001b[0m\u001b[0;34m\u001b[0m\u001b[0;34m\u001b[0m\u001b[0m\n\u001b[0m\u001b[1;32m     15\u001b[0m             \u001b[0mreward_non\u001b[0m\u001b[0;34m.\u001b[0m\u001b[0mappend\u001b[0m\u001b[0;34m(\u001b[0m\u001b[0mreward\u001b[0m\u001b[0;34m)\u001b[0m\u001b[0;34m\u001b[0m\u001b[0;34m\u001b[0m\u001b[0m\n\u001b[1;32m     16\u001b[0m             \u001b[0maction\u001b[0m \u001b[0;34m=\u001b[0m \u001b[0mnon\u001b[0m\u001b[0;34m.\u001b[0m\u001b[0menv\u001b[0m\u001b[0;34m.\u001b[0m\u001b[0muniform_random_action\u001b[0m\u001b[0;34m(\u001b[0m\u001b[0;34m)\u001b[0m\u001b[0;34m\u001b[0m\u001b[0;34m\u001b[0m\u001b[0m\n",
      "\u001b[0;31mTypeError\u001b[0m: unhashable type: 'list'"
     ]
    }
   ],
   "source": [
    "# non policy\n",
    "rewards_inter_non = [0]*25\n",
    "\n",
    "for j in range(1):\n",
    "    reward_non = []\n",
    "    value_non = []\n",
    "    for i in range(1): \n",
    "        non = Learn(size = 3)\n",
    "        #a.env = gym.make('gym_go:go-v0', size=size, reward_method = 'real')\n",
    "        done = False\n",
    "\n",
    "        while not done:\n",
    "            \n",
    "            reward_non.append(reward)\n",
    "            action = non.env.uniform_random_action()\n",
    "            state, reward, done, info = non.env.step(action)\n",
    "            if not done:\n",
    "                reward_non.append(reward)\n",
    "    print(j)\n",
    "                \n",
    "            \n",
    "    \n",
    "    rewards_inter_non[j] = reward_non\n",
    "    value_non[j] = value_non\n",
    "    \n",
    "        "
   ]
  },
  {
   "cell_type": "markdown",
   "metadata": {},
   "source": [
    "# TD Traing\n",
    "## train"
   ]
  },
  {
   "cell_type": "code",
   "execution_count": 73,
   "metadata": {},
   "outputs": [
    {
     "ename": "KeyboardInterrupt",
     "evalue": "",
     "output_type": "error",
     "traceback": [
      "\u001b[0;31m---------------------------------------------------------------------------\u001b[0m",
      "\u001b[0;31mKeyboardInterrupt\u001b[0m                         Traceback (most recent call last)",
      "\u001b[0;32m<ipython-input-73-ea17d3289b59>\u001b[0m in \u001b[0;36m<module>\u001b[0;34m\u001b[0m\n\u001b[1;32m      2\u001b[0m \u001b[0msize\u001b[0m \u001b[0;34m=\u001b[0m \u001b[0;36m3\u001b[0m\u001b[0;34m\u001b[0m\u001b[0;34m\u001b[0m\u001b[0m\n\u001b[1;32m      3\u001b[0m \u001b[0mtd\u001b[0m \u001b[0;34m=\u001b[0m \u001b[0mLearn\u001b[0m\u001b[0;34m(\u001b[0m\u001b[0msize\u001b[0m \u001b[0;34m=\u001b[0m \u001b[0msize\u001b[0m\u001b[0;34m)\u001b[0m\u001b[0;34m\u001b[0m\u001b[0;34m\u001b[0m\u001b[0m\n\u001b[0;32m----> 4\u001b[0;31m \u001b[0mtd\u001b[0m\u001b[0;34m.\u001b[0m\u001b[0msarsa_td\u001b[0m\u001b[0;34m(\u001b[0m\u001b[0mn_episodes\u001b[0m\u001b[0;34m=\u001b[0m\u001b[0;36m10000\u001b[0m\u001b[0;34m)\u001b[0m\u001b[0;34m\u001b[0m\u001b[0;34m\u001b[0m\u001b[0m\n\u001b[0m",
      "\u001b[0;32m<ipython-input-42-4eb753b750d0>\u001b[0m in \u001b[0;36msarsa_td\u001b[0;34m(self, n_episodes, alpha, gamma)\u001b[0m\n\u001b[1;32m    118\u001b[0m \u001b[0;34m\u001b[0m\u001b[0m\n\u001b[1;32m    119\u001b[0m                 \u001b[0;31m# step\u001b[0m\u001b[0;34m\u001b[0m\u001b[0;34m\u001b[0m\u001b[0;34m\u001b[0m\u001b[0m\n\u001b[0;32m--> 120\u001b[0;31m                 \u001b[0msuccessor_state\u001b[0m\u001b[0;34m,\u001b[0m \u001b[0mreward\u001b[0m\u001b[0;34m,\u001b[0m \u001b[0mdone\u001b[0m\u001b[0;34m,\u001b[0m \u001b[0minfo\u001b[0m \u001b[0;34m=\u001b[0m \u001b[0mself\u001b[0m\u001b[0;34m.\u001b[0m\u001b[0menv\u001b[0m\u001b[0;34m.\u001b[0m\u001b[0mstep\u001b[0m\u001b[0;34m(\u001b[0m\u001b[0maction_index\u001b[0m\u001b[0;34m)\u001b[0m\u001b[0;34m\u001b[0m\u001b[0;34m\u001b[0m\u001b[0m\n\u001b[0m\u001b[1;32m    121\u001b[0m \u001b[0;34m\u001b[0m\u001b[0m\n\u001b[1;32m    122\u001b[0m \u001b[0;34m\u001b[0m\u001b[0m\n",
      "\u001b[0;32m~/Desktop/Reinforcement_Learning_on_Go/Code/14_02_24_Go/GymGo-master/gym_go/envs/go_env.py\u001b[0m in \u001b[0;36mstep\u001b[0;34m(self, action)\u001b[0m\n\u001b[1;32m     63\u001b[0m         \u001b[0mself\u001b[0m\u001b[0;34m.\u001b[0m\u001b[0mstate_\u001b[0m \u001b[0;34m=\u001b[0m \u001b[0mgogame\u001b[0m\u001b[0;34m.\u001b[0m\u001b[0mnext_state\u001b[0m\u001b[0;34m(\u001b[0m\u001b[0mself\u001b[0m\u001b[0;34m.\u001b[0m\u001b[0mstate_\u001b[0m\u001b[0;34m,\u001b[0m \u001b[0maction\u001b[0m\u001b[0;34m,\u001b[0m \u001b[0mcanonical\u001b[0m\u001b[0;34m=\u001b[0m\u001b[0;32mFalse\u001b[0m\u001b[0;34m)\u001b[0m\u001b[0;34m\u001b[0m\u001b[0;34m\u001b[0m\u001b[0m\n\u001b[1;32m     64\u001b[0m         \u001b[0mself\u001b[0m\u001b[0;34m.\u001b[0m\u001b[0mdone\u001b[0m \u001b[0;34m=\u001b[0m \u001b[0mgogame\u001b[0m\u001b[0;34m.\u001b[0m\u001b[0mgame_ended\u001b[0m\u001b[0;34m(\u001b[0m\u001b[0mself\u001b[0m\u001b[0;34m.\u001b[0m\u001b[0mstate_\u001b[0m\u001b[0;34m)\u001b[0m\u001b[0;34m\u001b[0m\u001b[0;34m\u001b[0m\u001b[0m\n\u001b[0;32m---> 65\u001b[0;31m         \u001b[0;32mreturn\u001b[0m \u001b[0mnp\u001b[0m\u001b[0;34m.\u001b[0m\u001b[0mcopy\u001b[0m\u001b[0;34m(\u001b[0m\u001b[0mself\u001b[0m\u001b[0;34m.\u001b[0m\u001b[0mstate_\u001b[0m\u001b[0;34m)\u001b[0m\u001b[0;34m,\u001b[0m \u001b[0mself\u001b[0m\u001b[0;34m.\u001b[0m\u001b[0mreward\u001b[0m\u001b[0;34m(\u001b[0m\u001b[0;34m)\u001b[0m\u001b[0;34m,\u001b[0m \u001b[0mself\u001b[0m\u001b[0;34m.\u001b[0m\u001b[0mdone\u001b[0m\u001b[0;34m,\u001b[0m \u001b[0mself\u001b[0m\u001b[0;34m.\u001b[0m\u001b[0minfo\u001b[0m\u001b[0;34m(\u001b[0m\u001b[0;34m)\u001b[0m\u001b[0;34m\u001b[0m\u001b[0;34m\u001b[0m\u001b[0m\n\u001b[0m\u001b[1;32m     66\u001b[0m \u001b[0;34m\u001b[0m\u001b[0m\n\u001b[1;32m     67\u001b[0m     \u001b[0;32mdef\u001b[0m \u001b[0mgame_ended\u001b[0m\u001b[0;34m(\u001b[0m\u001b[0mself\u001b[0m\u001b[0;34m)\u001b[0m\u001b[0;34m:\u001b[0m\u001b[0;34m\u001b[0m\u001b[0;34m\u001b[0m\u001b[0m\n",
      "\u001b[0;32m~/Desktop/Reinforcement_Learning_on_Go/Code/14_02_24_Go/GymGo-master/gym_go/envs/go_env.py\u001b[0m in \u001b[0;36minfo\u001b[0;34m(self)\u001b[0m\n\u001b[1;32m     87\u001b[0m         \"\"\"\n\u001b[1;32m     88\u001b[0m         return {\n\u001b[0;32m---> 89\u001b[0;31m             \u001b[0;34m'turn'\u001b[0m\u001b[0;34m:\u001b[0m \u001b[0mgogame\u001b[0m\u001b[0;34m.\u001b[0m\u001b[0mturn\u001b[0m\u001b[0;34m(\u001b[0m\u001b[0mself\u001b[0m\u001b[0;34m.\u001b[0m\u001b[0mstate_\u001b[0m\u001b[0;34m)\u001b[0m\u001b[0;34m,\u001b[0m\u001b[0;34m\u001b[0m\u001b[0;34m\u001b[0m\u001b[0m\n\u001b[0m\u001b[1;32m     90\u001b[0m             \u001b[0;34m'invalid_moves'\u001b[0m\u001b[0;34m:\u001b[0m \u001b[0mgogame\u001b[0m\u001b[0;34m.\u001b[0m\u001b[0minvalid_moves\u001b[0m\u001b[0;34m(\u001b[0m\u001b[0mself\u001b[0m\u001b[0;34m.\u001b[0m\u001b[0mstate_\u001b[0m\u001b[0;34m)\u001b[0m\u001b[0;34m,\u001b[0m\u001b[0;34m\u001b[0m\u001b[0;34m\u001b[0m\u001b[0m\n\u001b[1;32m     91\u001b[0m             \u001b[0;34m'prev_player_passed'\u001b[0m\u001b[0;34m:\u001b[0m \u001b[0mgogame\u001b[0m\u001b[0;34m.\u001b[0m\u001b[0mprev_player_passed\u001b[0m\u001b[0;34m(\u001b[0m\u001b[0mself\u001b[0m\u001b[0;34m.\u001b[0m\u001b[0mstate_\u001b[0m\u001b[0;34m)\u001b[0m\u001b[0;34m,\u001b[0m\u001b[0;34m\u001b[0m\u001b[0;34m\u001b[0m\u001b[0m\n",
      "\u001b[0;32m~/Desktop/Reinforcement_Learning_on_Go/Code/14_02_24_Go/GymGo-master/gym_go/gogame.py\u001b[0m in \u001b[0;36mturn\u001b[0;34m(state)\u001b[0m\n\u001b[1;32m    240\u001b[0m     \u001b[0;34m:\u001b[0m\u001b[0;32mreturn\u001b[0m\u001b[0;34m:\u001b[0m \u001b[0mWho\u001b[0m\u001b[0;31m'\u001b[0m\u001b[0ms\u001b[0m \u001b[0mturn\u001b[0m \u001b[0mit\u001b[0m \u001b[0;32mis\u001b[0m \u001b[0;34m(\u001b[0m\u001b[0mgovars\u001b[0m\u001b[0;34m.\u001b[0m\u001b[0mBLACK\u001b[0m\u001b[0;34m/\u001b[0m\u001b[0mgovars\u001b[0m\u001b[0;34m.\u001b[0m\u001b[0mWHITE\u001b[0m\u001b[0;34m)\u001b[0m\u001b[0;34m\u001b[0m\u001b[0;34m\u001b[0m\u001b[0m\n\u001b[1;32m    241\u001b[0m     \"\"\"\n\u001b[0;32m--> 242\u001b[0;31m     \u001b[0;32mreturn\u001b[0m \u001b[0mint\u001b[0m\u001b[0;34m(\u001b[0m\u001b[0mnp\u001b[0m\u001b[0;34m.\u001b[0m\u001b[0mmax\u001b[0m\u001b[0;34m(\u001b[0m\u001b[0mstate\u001b[0m\u001b[0;34m[\u001b[0m\u001b[0mgovars\u001b[0m\u001b[0;34m.\u001b[0m\u001b[0mTURN_CHNL\u001b[0m\u001b[0;34m]\u001b[0m\u001b[0;34m)\u001b[0m\u001b[0;34m)\u001b[0m\u001b[0;34m\u001b[0m\u001b[0;34m\u001b[0m\u001b[0m\n\u001b[0m\u001b[1;32m    243\u001b[0m \u001b[0;34m\u001b[0m\u001b[0m\n\u001b[1;32m    244\u001b[0m \u001b[0;34m\u001b[0m\u001b[0m\n",
      "\u001b[0;32m<__array_function__ internals>\u001b[0m in \u001b[0;36mamax\u001b[0;34m(*args, **kwargs)\u001b[0m\n",
      "\u001b[0;32m/opt/anaconda3/lib/python3.8/site-packages/numpy/core/fromnumeric.py\u001b[0m in \u001b[0;36mamax\u001b[0;34m(a, axis, out, keepdims, initial, where)\u001b[0m\n\u001b[1;32m   2703\u001b[0m     \u001b[0;36m5\u001b[0m\u001b[0;34m\u001b[0m\u001b[0;34m\u001b[0m\u001b[0m\n\u001b[1;32m   2704\u001b[0m     \"\"\"\n\u001b[0;32m-> 2705\u001b[0;31m     return _wrapreduction(a, np.maximum, 'max', axis, None, out,\n\u001b[0m\u001b[1;32m   2706\u001b[0m                           keepdims=keepdims, initial=initial, where=where)\n\u001b[1;32m   2707\u001b[0m \u001b[0;34m\u001b[0m\u001b[0m\n",
      "\u001b[0;31mKeyboardInterrupt\u001b[0m: "
     ]
    }
   ],
   "source": [
    "# TD training\n",
    "size = 3\n",
    "td = Learn(size = size)\n",
    "td.sarsa_td(n_episodes=10000)"
   ]
  },
  {
   "cell_type": "markdown",
   "metadata": {},
   "source": [
    "### Save policy"
   ]
  },
  {
   "cell_type": "code",
   "execution_count": 41,
   "metadata": {},
   "outputs": [],
   "source": [
    "# save policy\n",
    "#dict_data = td.action_function\n",
    "#a_file = open(\"data.pkl\", \"wb\")\n",
    "#pickle.dump(dict_data, a_file)\n",
    "#a_file.close()\n",
    "size = 3\n",
    "td = Learn(size = size)\n",
    "a_file = open(\"data.pkl\", \"rb\")\n",
    "output = pickle.load(a_file)\n",
    "\n",
    "a_file.close()\n",
    "td.load_policy(output)"
   ]
  },
  {
   "cell_type": "markdown",
   "metadata": {},
   "source": [
    "## reward & Value Function"
   ]
  },
  {
   "cell_type": "code",
   "execution_count": 47,
   "metadata": {},
   "outputs": [
    {
     "name": "stdout",
     "output_type": "stream",
     "text": [
      "0\n",
      "1\n",
      "2\n",
      "3\n",
      "4\n",
      "5\n",
      "6\n",
      "7\n",
      "8\n",
      "9\n",
      "10\n",
      "11\n",
      "12\n",
      "13\n",
      "14\n",
      "15\n",
      "16\n",
      "17\n",
      "18\n",
      "19\n",
      "20\n",
      "21\n",
      "22\n",
      "23\n",
      "24\n"
     ]
    }
   ],
   "source": [
    "# after traning \n",
    "rewards_td = [0]*25\n",
    "#value_td = [0]*25\n",
    "states_start = [0]*25\n",
    "states_end = [0]*25\n",
    "states_inter = [0]*25\n",
    "for j in range(25):\n",
    "    print(j)\n",
    "    reward_td = []\n",
    "    start = []\n",
    "    end = []\n",
    "    inter  = []\n",
    "\n",
    "    for i in range(1000): \n",
    "        td.env = gym.make('gym_go:go-v0', size=size,  reward_method = \"heuristic\")\n",
    "\n",
    "        done = False\n",
    "\n",
    "        states = all_state2num(td.env.state(),size)\n",
    "        #state = a.env.state()[0:2].reshape(size**2*2)\n",
    "        action_index = td.apply_policy(states, 0.1)\n",
    "        #action = go_env.uniform_random_action()\n",
    "        state, reward, done, info = td.env.step(action_index)\n",
    "\n",
    "        idx, s, f = symmetry_action(all_state2num(td.env.state(), size), td.action_function, 0, size)\n",
    "\n",
    "        start.append(s)\n",
    "        reward_td.append(reward)\n",
    "\n",
    "        while not done:\n",
    "             # white    \n",
    "            action = td.env.uniform_random_action()\n",
    "            state, reward, done, info = td.env.step(action)\n",
    "\n",
    "            if done:\n",
    "                break\n",
    "\n",
    "\n",
    "            states = all_state2num(td.env.state(),size)\n",
    "\n",
    "            #state = a.env.state()[0:2].reshape(size**2*2)\n",
    "            action_index = td.apply_policy(states, 0.1)\n",
    "            #action = go_env.uniform_random_action()\n",
    "            state, reward, done, info = td.env.step(action_index)\n",
    "            #print(reward)\n",
    "            [action_idx, state, flag] = symmetry_action(states, td.action_function, action_index, size)\n",
    "            \n",
    "            # state \n",
    "            inter.append(state)\n",
    "                \n",
    "            # reward\n",
    "            if not done:\n",
    "                reward_td.append(reward)\n",
    "\n",
    "\n",
    "        idx, s, f = symmetry_action(states, td.action_function, 0, size) \n",
    "        \n",
    "        end.append(s)\n",
    "        \n",
    "    states_start[j] = start\n",
    "    states_end[j] = end\n",
    "    states_inter[j] = inter\n",
    "    rewards_td[j]=reward_td\n",
    "        \n",
    "        \n",
    "        "
   ]
  },
  {
   "cell_type": "markdown",
   "metadata": {},
   "source": [
    "# Evaluation\n",
    "## reward"
   ]
  },
  {
   "cell_type": "code",
   "execution_count": 370,
   "metadata": {},
   "outputs": [
    {
     "data": {
      "text/plain": [
       "(837, 47, 116)"
      ]
     },
     "execution_count": 370,
     "metadata": {},
     "output_type": "execute_result"
    }
   ],
   "source": [
    "# increace winning rate by ~25%\n",
    "rewards.count(1.0),rewards.count(0),rewards.count(-1)"
   ]
  },
  {
   "cell_type": "code",
   "execution_count": 21,
   "metadata": {},
   "outputs": [
    {
     "data": {
      "image/png": "[encoded data removed]",
      "text/plain": [
       "<Figure size 432x288 with 1 Axes>"
      ]
     },
     "metadata": {
      "needs_background": "light"
     },
     "output_type": "display_data"
    },
    {
     "name": "stdout",
     "output_type": "stream",
     "text": [
      "[4.0, 4.0, 4.0, 4.0, 4.0, 4.0, 4.0, 4.0, 4.0, 4.0, 4.0, 4.0, 4.0, 4.0, 4.0, 4.0, 4.0, 4.0, 4.0, 4.0, 4.0, 4.0, 4.0, 4.0, 4.0]\n"
     ]
    },
    {
     "data": {
      "image/png": "[encoded data removed]",
      "text/plain": [
       "<Figure size 432x288 with 1 Axes>"
      ]
     },
     "metadata": {
      "needs_background": "light"
     },
     "output_type": "display_data"
    },
    {
     "name": "stdout",
     "output_type": "stream",
     "text": [
      "[8.0, 8.0, 8.0, 8.0, 8.0, 8.0, 8.0, 8.0, 8.0, 8.0, 8.0, 8.0, 8.0, 8.0, 8.0, 8.0, 8.0, 8.0, 8.0, 8.0, 8.0, 8.0, 8.0, 8.0, 8.0]\n"
     ]
    }
   ],
   "source": [
    "# Random\n",
    "from matplotlib.ticker import PercentFormatter\n",
    "#np.save('rewards_inter_non.npy', rewards_inter_non)\n",
    "rewards_inter_non = np.load('rewards_inter_non.npy', allow_pickle=True)\n",
    "plt.hist(rewards_inter_non[1], weights=np.ones(len(rewards_inter_non[1])) / len(rewards_inter_non[1]), bins = 18)\n",
    "plt.gca().yaxis.set_major_formatter(PercentFormatter(1))\n",
    "plt.ylabel('Percentage of Occurrence')\n",
    "plt.xlabel('Random Reward')\n",
    "plt.show()\n",
    "non_iqr = []\n",
    "for i in rewards_inter_non:\n",
    "    non_iqr.append(iqr(i))\n",
    "print(non_iqr)\n",
    "#plt.boxplot(non_iqr)\n",
    "\n",
    "# TD\n",
    "#np.save('rewards_td.npy', rewards_td)\n",
    "rewards_td = np.load('rewards_td.npy', allow_pickle=True)\n",
    "plt.hist(rewards_td[1], weights=np.ones(len(rewards_td[1])) / len(rewards_td[1]), bins = 18)\n",
    "plt.gca().yaxis.set_major_formatter(PercentFormatter(1))\n",
    "plt.ylabel('Percentage of Occurrence')\n",
    "plt.xlabel('TD Reward')\n",
    "\n",
    "plt.show()\n",
    "td_iqr = []\n",
    "for i in rewards_td:\n",
    "    td_iqr.append(iqr(i))\n",
    "#plt.boxplot(td_iqr)\n",
    "print(td_iqr)"
   ]
  },
  {
   "cell_type": "markdown",
   "metadata": {},
   "source": [
    "## Value Function"
   ]
  },
  {
   "cell_type": "code",
   "execution_count": 63,
   "metadata": {},
   "outputs": [],
   "source": [
    "start_values = []\n",
    "for i in states_start:\n",
    "    start_value = []\n",
    "    for j in i:\n",
    "        if j not in td.action_function:\n",
    "            start_value.append(0)\n",
    "        else:\n",
    "            start_value.append(np.sum(td.action_function[j]))\n",
    "    start_values.append(start_value)\n",
    "    \n",
    "end_values = []\n",
    "for i in states_end:\n",
    "    end_value = []\n",
    "    for j in i:\n",
    "        if j not in td.action_function:\n",
    "            end_value.append(0)\n",
    "        else:\n",
    "            end_value.append(np.sum(td.action_function[j]))\n",
    "    end_values.append(end_value)\n",
    "    \n",
    "inter_values = []\n",
    "for i in states_inter:\n",
    "    inter_value = []\n",
    "    for j in i:\n",
    "        if j not in td.action_function:\n",
    "            inter_value.append(0)\n",
    "        else:\n",
    "            inter_value.append(np.sum(td.action_function[j]))\n",
    "    inter_values.append(inter_value)\n",
    "    \n",
    "all_values = []\n",
    "for i in range(25):\n",
    "    all_value = []\n",
    "    all_value.extend(start_values[i])\n",
    "    all_value.extend(end_values[i])\n",
    "    all_value.extend(inter_values[i])\n",
    "    all_values.append(all_value)\n",
    "#ax = sns.distplot(ls, bins=20, kde=False)\n",
    "#plt.ylabel('No. Occurance')\n",
    "#plt.xlabel('State Value (Starting States)')\n",
    "#plt.show()"
   ]
  },
  {
   "cell_type": "code",
   "execution_count": 70,
   "metadata": {},
   "outputs": [
    {
     "data": {
      "image/png": "[encoded data removed]",
      "text/plain": [
       "<Figure size 432x288 with 1 Axes>"
      ]
     },
     "metadata": {
      "needs_background": "light"
     },
     "output_type": "display_data"
    },
    {
     "data": {
      "image/png": "[encoded data removed]",
      "text/plain": [
       "<Figure size 432x288 with 1 Axes>"
      ]
     },
     "metadata": {
      "needs_background": "light"
     },
     "output_type": "display_data"
    },
    {
     "data": {
      "image/png": "[encoded data removed]",
      "text/plain": [
       "<Figure size 432x288 with 1 Axes>"
      ]
     },
     "metadata": {
      "needs_background": "light"
     },
     "output_type": "display_data"
    },
    {
     "data": {
      "image/png": "[encoded data removed]",
      "text/plain": [
       "<Figure size 432x288 with 1 Axes>"
      ]
     },
     "metadata": {
      "needs_background": "light"
     },
     "output_type": "display_data"
    }
   ],
   "source": [
    "#np.save('start_values.npy', start_values)\n",
    "#np.save('end_values.npy', end_values)\n",
    "#np.save('inter_values.npy', inter_values)\n",
    "#np.save('all_values.npy', all_values)\n",
    "\n",
    "#start_values = np.load('start_values.npy', allow_pickle=True)\n",
    "#end_values = np.load('end_values.npy', allow_pickle=True)\n",
    "#inter_values = np.load('inter_values.npy', allow_pickle=True)\n",
    "#all_values = np.load('all_values.npy', allow_pickle=True)\n",
    "\n",
    "plt.hist(start_values[1], weights=np.ones(len(start_values[1])) / len(start_values[1]), bins = 100)\n",
    "plt.gca().yaxis.set_major_formatter(PercentFormatter(1))\n",
    "plt.ylabel('Percentage of Occurrence')\n",
    "plt.xlabel('Value Function-Start')\n",
    "plt.show()\n",
    "\n",
    "plt.hist(end_values[1], weights=np.ones(len(end_values[1])) / len(end_values[1]), bins = 100)\n",
    "plt.gca().yaxis.set_major_formatter(PercentFormatter(1))\n",
    "plt.ylabel('Percentage of Occurrence')\n",
    "plt.xlabel('Value Function-End')\n",
    "plt.show()\n",
    "\n",
    "plt.hist(inter_values[1], weights=np.ones(len(inter_values[1])) / len(inter_values[1]), bins = 100)\n",
    "plt.gca().yaxis.set_major_formatter(PercentFormatter(1))\n",
    "plt.ylabel('Percentage of Occurrence')\n",
    "plt.xlabel('Value Function-Inter')\n",
    "plt.show()\n",
    "\n",
    "plt.hist(all_values[1], weights=np.ones(len(all_values[1])) / len(all_values[1]), bins = 100)\n",
    "plt.gca().yaxis.set_major_formatter(PercentFormatter(1))\n",
    "plt.ylabel('Percentage of Occurrence')\n",
    "plt.xlabel('Value Function-All')\n",
    "plt.show()\n",
    "\n"
   ]
  },
  {
   "cell_type": "code",
   "execution_count": 82,
   "metadata": {},
   "outputs": [
    {
     "data": {
      "text/plain": [
       "Text(0.5, 0, 'States')"
      ]
     },
     "execution_count": 82,
     "metadata": {},
     "output_type": "execute_result"
    },
    {
     "data": {
      "image/png": "[encoded data removed]",
      "text/plain": [
       "<Figure size 432x288 with 1 Axes>"
      ]
     },
     "metadata": {
      "needs_background": "light"
     },
     "output_type": "display_data"
    }
   ],
   "source": [
    "all_iqr_value = []\n",
    "start_iqr_value = []\n",
    "end_iqr_value = []\n",
    "inter_iqr_value = []\n",
    "for i in range(25):\n",
    "    all_iqr_value.append(iqr(all_values[i]))\n",
    "    start_iqr_value.append(iqr(start_values[i]))\n",
    "    end_iqr_value.append(iqr(end_values[i]))\n",
    "    inter_iqr_value.append(iqr(inter_values[i]))\n",
    "plt.boxplot([all_iqr_value,start_iqr_value, end_iqr_value, inter_iqr_value], \n",
    "            labels=list('ASEI'))\n",
    "plt.ylabel('IQR')\n",
    "plt.xlabel('States')"
   ]
  },
  {
   "cell_type": "code",
   "execution_count": null,
   "metadata": {},
   "outputs": [],
   "source": []
  }
 ],
 "metadata": {
  "kernelspec": {
   "display_name": "Python 3",
   "language": "python",
   "name": "python3"
  },
  "language_info": {
   "codemirror_mode": {
    "name": "ipython",
    "version": 3
   },
   "file_extension": ".py",
   "mimetype": "text/x-python",
   "name": "python",
   "nbconvert_exporter": "python",
   "pygments_lexer": "ipython3",
   "version": "3.8.5"
  }
 },
 "nbformat": 4,
 "nbformat_minor": 4
}
