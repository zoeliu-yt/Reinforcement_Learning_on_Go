{
 "cells": [
  {
   "cell_type": "markdown",
   "metadata": {},
   "source": [
    "# Install"
   ]
  },
  {
   "cell_type": "code",
   "execution_count": 1,
   "metadata": {},
   "outputs": [],
   "source": [
    "import os\n",
    "os.chdir('./GymGo-master')"
   ]
  },
  {
   "cell_type": "code",
   "execution_count": 2,
   "metadata": {},
   "outputs": [],
   "source": [
    "import gym\n",
    "import random\n",
    "import pandas as pd\n",
    "import numpy as np\n",
    "from sklearn import preprocessing\n",
    "import math\n",
    "from gym_go import state_utils, govars\n",
    "\n",
    "import matplotlib.pyplot as plt\n",
    "import seaborn as sns\n",
    "\n",
    "from scipy.stats import iqr\n",
    "import pickle\n",
    "import time"
   ]
  },
  {
   "cell_type": "markdown",
   "metadata": {},
   "source": [
    "# env"
   ]
  },
  {
   "cell_type": "code",
   "execution_count": 3,
   "metadata": {
    "scrolled": true
   },
   "outputs": [],
   "source": [
    "# 8 same symmetries\n",
    "def all_symmetries(image):\n",
    "    \"\"\"\n",
    "    :param image: A (C, BOARD_SIZE, BOARD_SIZE) numpy array, where C is any number\n",
    "    :return: All 8 orientations that are symmetrical in a Go game over the 2nd and 3rd axes\n",
    "    (i.e. rotations, flipping and combos of them)\n",
    "    \"\"\"\n",
    "    symmetries = []\n",
    "\n",
    "    for i in range(8):\n",
    "        x = image\n",
    "        if (i >> 0) % 2:\n",
    "            # Horizontal flip\n",
    "            x = np.flip(x, 2)\n",
    "        if (i >> 1) % 2:\n",
    "            # Vertical flip\n",
    "            x = np.flip(x, 1)\n",
    "        if (i >> 2) % 2:\n",
    "            # Rotation 90 degrees\n",
    "            x = np.rot90(x, axes=(1, 2))\n",
    "            \n",
    "        symmetries.append(x)\n",
    "\n",
    "    return symmetries\n",
    "#all_symmetries(state1)"
   ]
  },
  {
   "cell_type": "code",
   "execution_count": 4,
   "metadata": {},
   "outputs": [],
   "source": [
    "# one state to num\n",
    "def state2num(state1,size):\n",
    "    # state1 is a size*size*6 matrix\n",
    "    \n",
    "    \n",
    "    state1 = state1.astype(int)\n",
    "    state = state1[0:2].reshape(size**2*2)\n",
    "    num = int(\"\".join(str(x) for x in state), 2)\n",
    "    \n",
    "    return num\n",
    "\n",
    "# all states to num\n",
    "def all_state2num(state1, size):\n",
    "    # state1 is a size*size*6 matrix\n",
    "    state1 = state1.astype(int)\n",
    "    all_b = all_symmetries(state1[0].reshape(1,size,size))\n",
    "    all_w = all_symmetries(state1[1].reshape(1,size,size))\n",
    "    ls = []\n",
    "    for i in range(8):\n",
    "        state = np.concatenate((all_b[i].reshape(size**2),all_w[i].reshape(size**2)), axis=None)\n",
    "        num = int(\"\".join(str(x) for x in state), 2)\n",
    "        ls.append(num)\n",
    "    return ls\n",
    "\n",
    "#state2num(state1, size), all_state2num(state1, size)"
   ]
  },
  {
   "cell_type": "code",
   "execution_count": 5,
   "metadata": {},
   "outputs": [],
   "source": [
    "\n",
    "def symmetry_action(ls, l, action, size):\n",
    "    # ls is all symmetry fucntion\n",
    "    # l is all keys in value function\n",
    "    # action is an int\n",
    "    \n",
    "    # return rotated action and flag indicating if the state exists\n",
    "    flag = False\n",
    "    state = ls[0]\n",
    "    for i in range(len(ls)):\n",
    "        if ls[i] in l:\n",
    "            flag = True\n",
    "            if action == size**2:\n",
    "                state = ls[i]\n",
    "                break\n",
    "            \n",
    "            a = math.floor(action/size)\n",
    "            b = action%size\n",
    "            s = size - 1\n",
    "            if i == 1:\n",
    "                b = s-b\n",
    "            elif i == 2:\n",
    "                a = s-a\n",
    "            elif i == 3:\n",
    "                a = s-a\n",
    "                b = s-b\n",
    "            elif i == 4:\n",
    "                b = a\n",
    "                a = b\n",
    "            elif i == 5:\n",
    "                a = s-b\n",
    "                b = a\n",
    "            elif i == 6:\n",
    "                a = b\n",
    "                b = s-a\n",
    "            elif i == 7:\n",
    "                a = s-b\n",
    "                b = s-a\n",
    "            action = size * a + b\n",
    "            state = ls[i]\n",
    "            break\n",
    "    return action, state, flag\n"
   ]
  },
  {
   "cell_type": "code",
   "execution_count": 6,
   "metadata": {},
   "outputs": [],
   "source": [
    "def intersection(lst1, lst2):\n",
    "    lst3 = [value for value in lst1 if value in lst2]\n",
    "    return lst3"
   ]
  },
  {
   "cell_type": "code",
   "execution_count": 7,
   "metadata": {},
   "outputs": [],
   "source": [
    "def invalid_moves(state):\n",
    "    # return a fixed size binary vector\n",
    "    if game_ended(state):\n",
    "        return np.zeros(action_size(state))\n",
    "    return np.append(state[govars.INVD_CHNL].flatten(), 0)\n",
    "\n",
    "\n",
    "def valid_moves(state):\n",
    "    return 1 - invalid_moves(state)"
   ]
  },
  {
   "cell_type": "code",
   "execution_count": 18,
   "metadata": {},
   "outputs": [],
   "source": [
    "# Program\n",
    "class Learn(object):\n",
    "\n",
    "    # board size, value function, action function\n",
    "    def __init__(self, size):\n",
    "        self.size = size\n",
    "        # define state value function as a dict\n",
    "        # key is position of b and w\n",
    "        # value is state value (a number)\n",
    "        self.value_function = dict()\n",
    "        \n",
    "        # add new state if not exist\n",
    "        #if tuple(go_env.state()[0:2].reshape(size**2*2)) not in value_function: \n",
    "        #    value_function[tuple(go_env.state()[0:2].reshape(size**2*2))] = 0\n",
    "        \n",
    "        # define action value function as a dict\n",
    "        # key is position of b and w\n",
    "        # value is action value (an array)\n",
    "        self.action_function = dict()\n",
    "        \n",
    "        \n",
    "        #if tuple(go_env.state()[0:2].reshape(size**2*2)) not in action_function:\n",
    "        #    action_function[tuple(go_env.state()[0:2].reshape(size**2*2))] = np.zeros(size**2+1)\n",
    "        \n",
    "        self.env = gym.make('gym_go:go-v0', size=self.size, reward_method = \"real\")\n",
    "        self.env.reset()\n",
    "        \n",
    "        #self.state = self.env.state()[0:2].reshape(size**2*2)\n",
    "    \n",
    "    # helper\n",
    "    #def intersection(self, lst1, lst2):\n",
    "    #    lst3 = [value for value in lst1 if value in lst2]\n",
    "    #    return lst3\n",
    "    \n",
    "    ## load policy\n",
    "    def load_policy(self, dictionary):\n",
    "        self.action_function = dictionary\n",
    "        \n",
    "        \n",
    "\n",
    "    ## greedy policy\n",
    "    def apply_policy(self, states, epsilon):\n",
    "        \"\"\"\n",
    "        Apply the policy of the agent\n",
    "        Args:\n",
    "            state: tuple of length 2\n",
    "            epsilon: exploration probability, 0 for greedy behavior, 1 for pure exploration\n",
    "        Returns:\n",
    "            the selected action for the state under the current policy\n",
    "        \"\"\"\n",
    "        ## random\n",
    "        if np.random.uniform(0, 1) < epsilon:\n",
    "            action_index = self.env.uniform_random_action()\n",
    "        else: \n",
    "            # if not in action function, build a new one\n",
    "            \n",
    "            [x, state, flag] = symmetry_action(states, self.action_function, 0, self.size)\n",
    "            if not flag:\n",
    "                action_index = self.env.uniform_random_action()\n",
    "                #self.action_function[state] = np.zeros(self.size**2+1)\n",
    "            #if state not in self.action_function:\n",
    "            #    self.action_function[state] = np.zeros(self.size**2+1)\n",
    "            \n",
    "            else:\n",
    "                # actions with max value\n",
    "                greedy_action_value = np.max(self.action_function[state])\n",
    "                greedy_indices = [i for i, a in enumerate(self.action_function[state]) if\n",
    "                              a == greedy_action_value]\n",
    "\n",
    "                valid = np.nonzero(self.env.valid_moves())[0]\n",
    "\n",
    "                # overlap between max and valid action \n",
    "                #idx = intersection(greedy_indices, valid)\n",
    "                #if idx == []:\n",
    "                #    action_idx = self.size**2\n",
    "                #print(greedy_indices)\n",
    "                #else:\n",
    "                #    action_idx = np.random.choice(intersection(greedy_indices, valid))\n",
    "                action_idx = np.random.choice(greedy_indices)\n",
    "                [action_index, x, x] = symmetry_action(states, self.action_function, action_idx, self.size)\n",
    "                if action_index not in valid:\n",
    "                    action_index = self.env.uniform_random_action()\n",
    "        \n",
    "        \n",
    "        return action_index\n",
    "    \n",
    "    def sarsa_td(self, n_episodes=1000, alpha=0.01, gamma=0.9):\n",
    "        \"\"\"\n",
    "        Run the sarsa control algorithm (TD0), finding the optimal policy and action function\n",
    "        :param n_episodes: int, amount of episodes to train\n",
    "        :param alpha: learning rate\n",
    "        :param gamma: discount factor of future rewards\n",
    "        :return: finds the optimal policy for move chess\n",
    "        \"\"\"\n",
    "        error = 0\n",
    "        i = 0\n",
    "        td_errors = []\n",
    "        for k in range(n_episodes):\n",
    "            self.env= gym.make('gym_go:go-v0', size=self.size, reward_method = \"heuristic\")\n",
    "            self.env.reset()\n",
    "            done = False\n",
    "            epsilon = max(1 / (1 + k), 0.05)\n",
    "            \n",
    "            while not done:\n",
    "                i += 1\n",
    "                # current state - action idx\n",
    "                #state = self.env.state()[0:2].reshape(self.size**2*2)\n",
    "                # state = state2num(self.env.state(), self.size)\n",
    "            \n",
    "                states = all_state2num(self.env.state(),self.size)\n",
    "                action_index = self.apply_policy(states, epsilon)\n",
    "                \n",
    "                \n",
    "                # current state - action value\n",
    "                ## check all rotations\n",
    "                [action_idx, state, flag] = symmetry_action(states, self.action_function, action_index, self.size)\n",
    "                #print(action_idx, action_index)\n",
    "                if not flag:\n",
    "                    self.action_function[state] = np.zeros(self.size**2+1)\n",
    "                #print(states,action_idx)\n",
    "                action_value = self.action_function[state][action_idx]\n",
    "                \n",
    "                \n",
    "                # step\n",
    "                successor_state, reward, done, info = self.env.step(action_index)\n",
    "                \n",
    "                \n",
    "                # successor state - action idx\n",
    "                #successor_state = successor_state1[0:2].reshape(self.size**2*2)\n",
    "                #successor_state = state2num(successor_state1, self.size)\n",
    "                successor_states = all_state2num(successor_state, self.size)\n",
    "                successor_action_index = self.apply_policy(successor_states, epsilon)\n",
    "                \n",
    "                \n",
    "                \n",
    "                # successor state - action value\n",
    "                ## check all rotations\n",
    "                [successor_action_idx, successor_state, flag2] = symmetry_action(successor_states, \n",
    "                                                                                 self.action_function, \n",
    "                                                                                 successor_action_index,\n",
    "                                                                                self.size)\n",
    "                #print(successor_action_idx, successor_action_index)\n",
    "                if not flag2:\n",
    "                    self.action_function[successor_state] = np.zeros(self.size**2+1)\n",
    "                    \n",
    "                successor_action_value = self.action_function[successor_state][successor_action_idx]\n",
    "                \n",
    "                # update action value function\n",
    "                q_update = alpha * (reward + gamma * successor_action_value - action_value)\n",
    "                self.action_function[state][action_idx] += q_update\n",
    "                \n",
    "                error += q_update\n",
    "                td_errors.append(q_update)\n",
    "                if done:\n",
    "                    break\n",
    "                \n",
    "                # white\n",
    "                action = self.env.uniform_random_action()\n",
    "                state, reward, done, info = self.env.step(action)\n",
    "            \n",
    "            if k in x:\n",
    "                \n",
    "                td_error = error/i\n",
    "                print(td_error)\n",
    "        return(td_errors)\n",
    "                \n",
    "        \n",
    "                \n",
    "                \n",
    "                \n",
    "                \n",
    "        "
   ]
  },
  {
   "cell_type": "code",
   "execution_count": 19,
   "metadata": {},
   "outputs": [],
   "source": [
    "x = list(np.linspace(0, 1000, 11)) + list(np.linspace(2000, 10000, 9))+list(np.linspace(20000, 50000, 4))\n"
   ]
  },
  {
   "cell_type": "code",
   "execution_count": 21,
   "metadata": {},
   "outputs": [
    {
     "name": "stdout",
     "output_type": "stream",
     "text": [
      "0.05222222222222222\n",
      "0.021145531494427133\n",
      "0.02142989544737446\n",
      "0.021727313171495764\n",
      "0.020999071942004337\n",
      "0.02179369474781939\n",
      "0.02173781882578605\n",
      "0.021179545695726023\n",
      "0.021187065063084085\n",
      "0.021458682944670678\n"
     ]
    }
   ],
   "source": [
    "td = Learn(size = 3)\n",
    "td_errors = td.sarsa_td(n_episodes=1000)"
   ]
  },
  {
   "cell_type": "code",
   "execution_count": 22,
   "metadata": {},
   "outputs": [
    {
     "data": {
      "text/plain": [
       "(array([4.000e+00, 1.910e+02, 3.300e+01, 1.600e+01, 1.400e+01, 1.400e+01,\n",
       "        1.300e+01, 6.000e+00, 1.000e+00, 1.000e+00, 1.000e+00, 0.000e+00,\n",
       "        5.000e+00, 1.050e+02, 3.300e+01, 1.200e+01, 6.000e+00, 7.900e+01,\n",
       "        1.100e+01, 2.000e+00, 8.000e+00, 1.650e+02, 1.400e+01, 3.000e+00,\n",
       "        4.000e+00, 1.380e+02, 2.000e+00, 1.000e+00, 1.000e+00, 1.700e+02,\n",
       "        1.800e+01, 2.000e+00, 0.000e+00, 2.000e+02, 1.500e+01, 8.000e+00,\n",
       "        2.000e+00, 3.480e+02, 1.120e+02, 2.180e+02, 3.150e+02, 1.387e+03,\n",
       "        2.750e+02, 8.600e+01, 6.500e+01, 4.340e+02, 6.200e+01, 4.000e+01,\n",
       "        5.600e+01, 2.650e+02, 6.000e+01, 3.100e+01, 2.600e+01, 2.290e+02,\n",
       "        5.400e+01, 2.700e+01, 1.400e+01, 1.450e+02, 4.100e+01, 2.200e+01,\n",
       "        5.600e+01, 1.980e+02, 3.300e+01, 2.500e+01, 1.500e+01, 1.500e+01,\n",
       "        2.100e+01, 1.500e+01, 1.200e+01, 2.300e+01, 6.300e+01, 8.100e+01,\n",
       "        1.710e+02, 8.070e+02, 1.360e+02, 1.600e+01, 1.000e+01, 1.200e+01,\n",
       "        5.000e+00, 6.000e+00, 4.000e+00, 4.000e+00, 7.000e+00, 1.100e+01,\n",
       "        3.000e+00, 2.000e+00, 3.000e+00, 3.000e+00, 0.000e+00, 0.000e+00,\n",
       "        1.000e+00, 0.000e+00, 0.000e+00, 1.000e+00, 0.000e+00, 0.000e+00,\n",
       "        0.000e+00, 3.000e+00, 1.000e+00, 3.000e+00]),\n",
       " array([-0.09291829, -0.09044026, -0.08796224, -0.08548422, -0.08300619,\n",
       "        -0.08052817, -0.07805014, -0.07557212, -0.0730941 , -0.07061607,\n",
       "        -0.06813805, -0.06566002, -0.063182  , -0.06070398, -0.05822595,\n",
       "        -0.05574793, -0.0532699 , -0.05079188, -0.04831386, -0.04583583,\n",
       "        -0.04335781, -0.04087978, -0.03840176, -0.03592373, -0.03344571,\n",
       "        -0.03096769, -0.02848966, -0.02601164, -0.02353361, -0.02105559,\n",
       "        -0.01857757, -0.01609954, -0.01362152, -0.01114349, -0.00866547,\n",
       "        -0.00618745, -0.00370942, -0.0012314 ,  0.00124663,  0.00372465,\n",
       "         0.00620267,  0.0086807 ,  0.01115872,  0.01363675,  0.01611477,\n",
       "         0.01859279,  0.02107082,  0.02354884,  0.02602687,  0.02850489,\n",
       "         0.03098291,  0.03346094,  0.03593896,  0.03841699,  0.04089501,\n",
       "         0.04337303,  0.04585106,  0.04832908,  0.05080711,  0.05328513,\n",
       "         0.05576316,  0.05824118,  0.0607192 ,  0.06319723,  0.06567525,\n",
       "         0.06815328,  0.0706313 ,  0.07310932,  0.07558735,  0.07806537,\n",
       "         0.0805434 ,  0.08302142,  0.08549944,  0.08797747,  0.09045549,\n",
       "         0.09293352,  0.09541154,  0.09788956,  0.10036759,  0.10284561,\n",
       "         0.10532364,  0.10780166,  0.11027968,  0.11275771,  0.11523573,\n",
       "         0.11771376,  0.12019178,  0.1226698 ,  0.12514783,  0.12762585,\n",
       "         0.13010388,  0.1325819 ,  0.13505992,  0.13753795,  0.14001597,\n",
       "         0.142494  ,  0.14497202,  0.14745005,  0.14992807,  0.15240609,\n",
       "         0.15488412]),\n",
       " <BarContainer object of 100 artists>)"
      ]
     },
     "execution_count": 22,
     "metadata": {},
     "output_type": "execute_result"
    },
    {
     "data": {
      "image/png": "[encoded data removed]",
      "text/plain": [
       "<Figure size 432x288 with 1 Axes>"
      ]
     },
     "metadata": {
      "needs_background": "light"
     },
     "output_type": "display_data"
    }
   ],
   "source": [
    "plt.hist(td_errors, bins = 100)"
   ]
  },
  {
   "cell_type": "code",
   "execution_count": 15,
   "metadata": {},
   "outputs": [
    {
     "ename": "NameError",
     "evalue": "name 'td_errors' is not defined",
     "output_type": "error",
     "traceback": [
      "\u001b[0;31m---------------------------------------------------------------------------\u001b[0m",
      "\u001b[0;31mNameError\u001b[0m                                 Traceback (most recent call last)",
      "\u001b[0;32m<ipython-input-15-b0c3669e6ad1>\u001b[0m in \u001b[0;36m<module>\u001b[0;34m\u001b[0m\n\u001b[0;32m----> 1\u001b[0;31m \u001b[0mtd_errors\u001b[0m\u001b[0;34m\u001b[0m\u001b[0;34m\u001b[0m\u001b[0m\n\u001b[0m",
      "\u001b[0;31mNameError\u001b[0m: name 'td_errors' is not defined"
     ]
    }
   ],
   "source": [
    "plt.hist(start_values[1], weights=np.ones(len(start_values[1])) / len(start_values[1]), bins = 100)\n",
    "plt.gca().yaxis.set_major_formatter(PercentFormatter(1))\n",
    "plt.ylabel('Percentage of Occurrence')\n",
    "plt.xlabel('Value Function-Start')\n",
    "plt.show()"
   ]
  },
  {
   "cell_type": "markdown",
   "metadata": {},
   "source": [
    "# Training"
   ]
  },
  {
   "cell_type": "code",
   "execution_count": 17,
   "metadata": {},
   "outputs": [],
   "source": [
    "size = 3\n",
    "ra_trials = 1000\n",
    "train_episodes = [100, 1000, 10000, 50000, 100000, 150000]\n",
    "eval_episodes = 1000\n",
    "trial = 25"
   ]
  },
  {
   "cell_type": "markdown",
   "metadata": {},
   "source": [
    "# baseline"
   ]
  },
  {
   "cell_type": "code",
   "execution_count": null,
   "metadata": {},
   "outputs": [],
   "source": [
    "# number of episodes\n",
    "rewards_non = [0]*trial\n",
    "for j in range(trial):\n",
    "    reward_non = 0\n",
    "    for i in range(eval_episodes): \n",
    "        non = Learn(size = size)\n",
    "        non.env.reset()\n",
    "        done = False\n",
    "        while not done:\n",
    "            action = non.env.uniform_random_action()\n",
    "\n",
    "            state, reward, done, info = non.env.step(action)\n",
    "            #print(reward)\n",
    "        if reward == 1:\n",
    "            reward_non += 1\n",
    "    rewards_non[j] = reward_non\n"
   ]
  },
  {
   "cell_type": "code",
   "execution_count": 34,
   "metadata": {},
   "outputs": [],
   "source": [
    "reward_non = []\n",
    "for i in range(1000): \n",
    "        non = Learn(size = size)\n",
    "        non.env.reset()\n",
    "        done = False\n",
    "        while not done:\n",
    "            action = non.env.uniform_random_action()\n",
    "\n",
    "            state, reward, done, info = non.env.step(action)\n",
    "            #print(reward)\n",
    "        reward_non.append(reward)"
   ]
  },
  {
   "cell_type": "markdown",
   "metadata": {},
   "source": [
    "# TD \n",
    "Eposodes"
   ]
  },
  {
   "cell_type": "code",
   "execution_count": 35,
   "metadata": {},
   "outputs": [],
   "source": [
    "np.save(\"non.npy\", reward_non)"
   ]
  },
  {
   "cell_type": "code",
   "execution_count": 32,
   "metadata": {},
   "outputs": [
    {
     "name": "stdout",
     "output_type": "stream",
     "text": [
      "0\n",
      "1\n",
      "2\n",
      "3\n",
      "4\n",
      "5\n",
      "6\n",
      "7\n",
      "8\n",
      "9\n",
      "--- 1824.4945890903473 seconds ---\n"
     ]
    }
   ],
   "source": [
    "# TD training\n",
    "# number of iteration = 25\n",
    "# train_episodes = [100, 1000, 10000, 100000]\n",
    "# eval_episodes = 1000\n",
    "start_time = time.time()\n",
    "rewards_td = []\n",
    "\n",
    "td = Learn(size = size)\n",
    "for j in range(10):\n",
    "        \n",
    "        td.sarsa_td(n_episodes=10000)\n",
    "\n",
    "        reward_td = []\n",
    "        for i in range(1000): \n",
    "                td_eval = Learn(size = size)\n",
    "                td_eval.action_function = td.action_function\n",
    "                td_eval.env = gym.make('gym_go:go-v0', size=size,  reward_method = \"real\")\n",
    "                td_eval.env.reset()\n",
    "                \n",
    "                done = False\n",
    "\n",
    "                while not done:\n",
    "                    states = all_state2num(td_eval.env.state(),size)\n",
    "                    action_index = td_eval.apply_policy(states, 0.1)\n",
    "                    state, reward, done, info = td_eval.env.step(action_index)\n",
    "\n",
    "                    if done:\n",
    "                        break\n",
    "                    # white    \n",
    "                    action = td_eval.env.uniform_random_action()\n",
    "                    state, reward, done, info = td_eval.env.step(action)\n",
    "\n",
    "                #print(reward)\n",
    "                reward_td.append(reward)\n",
    "        rewards_td.append(reward_td)\n",
    "        print(j)\n",
    "        #print(reward_td)\n",
    "\n",
    "\n",
    "        \n",
    "\n",
    "        \n",
    "print(\"--- %s seconds ---\" % (time.time() - start_time))\n",
    "\n"
   ]
  },
  {
   "cell_type": "code",
   "execution_count": 33,
   "metadata": {},
   "outputs": [],
   "source": [
    "np.save(\"10000.npy\", rewards_td)"
   ]
  },
  {
   "cell_type": "code",
   "execution_count": null,
   "metadata": {},
   "outputs": [],
   "source": [
    "# TD training\n",
    "# number of iteration = 25\n",
    "# train_episodes = [100, 1000, 10000, 100000]\n",
    "# eval_episodes = 1000\n",
    "start_time = time.time()\n",
    "rewards_td1 = []\n",
    "\n",
    "td = Learn(size = size)\n",
    "for j in range(10):\n",
    "        \n",
    "        td.sarsa_td(n_episodes=1000)\n",
    "\n",
    "        reward_td = []\n",
    "        for i in range(1000): \n",
    "                td_eval = Learn(size = size)\n",
    "                td_eval.action_function = td.action_function\n",
    "                td_eval.env = gym.make('gym_go:go-v0', size=size,  reward_method = \"real\")\n",
    "                td_eval.env.reset()\n",
    "                \n",
    "                done = False\n",
    "\n",
    "                while not done:\n",
    "                    states = all_state2num(td_eval.env.state(),size)\n",
    "                    action_index = td_eval.apply_policy(states, 0.1)\n",
    "                    state, reward, done, info = td_eval.env.step(action_index)\n",
    "\n",
    "                    if done:\n",
    "                        break\n",
    "                    # white    \n",
    "                    action = td_eval.env.uniform_random_action()\n",
    "                    state, reward, done, info = td_eval.env.step(action)\n",
    "\n",
    "                #print(reward)\n",
    "                reward_td.append(reward)\n",
    "        rewards_td1.append(reward_td)\n",
    "        print(j)\n",
    "        #print(reward_td)\n",
    "\n",
    "\n",
    "        \n",
    "\n",
    "        \n",
    "print(\"--- %s seconds ---\" % (time.time() - start_time))\n",
    "\n"
   ]
  },
  {
   "cell_type": "markdown",
   "metadata": {},
   "source": [
    "Hyperparameter\n"
   ]
  },
  {
   "cell_type": "code",
   "execution_count": 12,
   "metadata": {},
   "outputs": [
    {
     "name": "stdout",
     "output_type": "stream",
     "text": [
      "732\n",
      "787\n",
      "782\n",
      "800\n",
      "759\n",
      "883\n",
      "805\n",
      "779\n",
      "779\n",
      "766\n",
      "769\n",
      "776\n",
      "795\n",
      "767\n",
      "790\n",
      "795\n",
      "833\n",
      "789\n",
      "775\n",
      "704\n",
      "800\n",
      "797\n",
      "758\n",
      "813\n",
      "823\n",
      "794\n",
      "736\n",
      "823\n",
      "678\n",
      "699\n",
      "811\n",
      "741\n",
      "743\n",
      "747\n",
      "803\n",
      "825\n",
      "808\n",
      "736\n",
      "761\n",
      "760\n",
      "815\n",
      "787\n",
      "815\n",
      "816\n",
      "758\n",
      "731\n",
      "732\n",
      "758\n",
      "761\n",
      "732\n",
      "722\n",
      "750\n",
      "731\n",
      "753\n",
      "780\n",
      "766\n",
      "741\n",
      "752\n",
      "768\n",
      "757\n",
      "779\n",
      "736\n",
      "791\n",
      "758\n",
      "764\n",
      "748\n",
      "760\n",
      "757\n",
      "675\n",
      "736\n",
      "713\n",
      "780\n",
      "806\n",
      "755\n",
      "764\n",
      "735\n",
      "737\n",
      "722\n",
      "720\n",
      "773\n",
      "742\n",
      "741\n",
      "739\n",
      "762\n",
      "792\n",
      "759\n",
      "797\n",
      "693\n",
      "796\n",
      "734\n",
      "793\n",
      "696\n",
      "660\n",
      "586\n",
      "700\n",
      "684\n",
      "668\n",
      "633\n",
      "700\n",
      "670\n",
      "--- 17951.530526399612 seconds ---\n"
     ]
    }
   ],
   "source": [
    "# TD training\n",
    "# number of iteration = 25\n",
    "# train_episodes = [100, 1000, 10000, 100000]\n",
    "# eval_episodes = 1000\n",
    "start_time = time.time()\n",
    "rewards_td = dict()\n",
    "result = np.zeros((10,10))\n",
    "for j in [0.1, 0.2, 0.3, 0.4, 0.5, 0.6, 0.7, 0.8, 0.9, 1]:\n",
    "    for k in [0.1, 0.2, 0.3, 0.4, 0.5, 0.6, 0.7, 0.8, 0.9, 1]:\n",
    "        \n",
    "        td = Learn(size = size)\n",
    "        td.sarsa_td(n_episodes=10000, alpha=k, gamma=j)\n",
    "\n",
    "        reward_td = 0\n",
    "        for i in range(eval_episodes): \n",
    "                td.env = gym.make('gym_go:go-v0', size=size,  reward_method = \"real\")\n",
    "                td.env.reset()\n",
    "                done = False\n",
    "\n",
    "                while not done:\n",
    "                    states = all_state2num(td.env.state(),size)\n",
    "                    action_index = td.apply_policy(states, 0.1)\n",
    "                    state, reward, done, info = td.env.step(action_index)\n",
    "\n",
    "\n",
    "\n",
    "                    if done:\n",
    "                        break\n",
    "                    # white    \n",
    "                    action = td.env.uniform_random_action()\n",
    "                    state, reward, done, info = td.env.step(action)\n",
    "\n",
    "                #print(reward)\n",
    "                if reward == 1:\n",
    "                    reward_td = reward_td + 1\n",
    "        rewards_td[j,k] = reward_td\n",
    "        print(reward_td)\n",
    "\n",
    "\n",
    "        \n",
    "\n",
    "        \n",
    "print(\"--- %s seconds ---\" % (time.time() - start_time))\n"
   ]
  },
  {
   "cell_type": "code",
   "execution_count": 13,
   "metadata": {},
   "outputs": [],
   "source": [
    "result = np.array([732,\n",
    "787,\n",
    "782,\n",
    "800,\n",
    "759,\n",
    "883,\n",
    "805,\n",
    "779,\n",
    "779,\n",
    "766,\n",
    "769,\n",
    "776,\n",
    "795,\n",
    "767,\n",
    "790,\n",
    "795,\n",
    "833,\n",
    "789,\n",
    "775,\n",
    "704,\n",
    "800,\n",
    "797,\n",
    "758,\n",
    "813,\n",
    "823,\n",
    "794,\n",
    "736,\n",
    "823,\n",
    "678,\n",
    "699,\n",
    "811,\n",
    "741,\n",
    "743,\n",
    "747,\n",
    "803,\n",
    "825,\n",
    "808,\n",
    "736,\n",
    "761,\n",
    "760,\n",
    "815,\n",
    "787,\n",
    "815,\n",
    "816,\n",
    "758,\n",
    "731,\n",
    "732,\n",
    "758,\n",
    "761,\n",
    "732,\n",
    "722,\n",
    "750,\n",
    "731,\n",
    "753,\n",
    "780,\n",
    "766,\n",
    "741,\n",
    "752,\n",
    "768,\n",
    "757,\n",
    "779,\n",
    "736,\n",
    "791,\n",
    "758,\n",
    "764,\n",
    "748,\n",
    "760,\n",
    "757,\n",
    "675,\n",
    "736,\n",
    "713,\n",
    "780,\n",
    "806,\n",
    "755,\n",
    "764,\n",
    "735,\n",
    "737,\n",
    "722,\n",
    "720,\n",
    "773,\n",
    "742,\n",
    "741,\n",
    "739,\n",
    "762,\n",
    "792,\n",
    "759,\n",
    "797,\n",
    "693,\n",
    "796,\n",
    "734,\n",
    "793,\n",
    "696,\n",
    "660,\n",
    "586,\n",
    "700,\n",
    "684,\n",
    "668,\n",
    "633,\n",
    "700,\n",
    "670])"
   ]
  },
  {
   "cell_type": "code",
   "execution_count": 14,
   "metadata": {},
   "outputs": [
    {
     "data": {
      "text/plain": [
       "array([[732, 787, 782, 800, 759, 883, 805, 779, 779, 766],\n",
       "       [769, 776, 795, 767, 790, 795, 833, 789, 775, 704],\n",
       "       [800, 797, 758, 813, 823, 794, 736, 823, 678, 699],\n",
       "       [811, 741, 743, 747, 803, 825, 808, 736, 761, 760],\n",
       "       [815, 787, 815, 816, 758, 731, 732, 758, 761, 732],\n",
       "       [722, 750, 731, 753, 780, 766, 741, 752, 768, 757],\n",
       "       [779, 736, 791, 758, 764, 748, 760, 757, 675, 736],\n",
       "       [713, 780, 806, 755, 764, 735, 737, 722, 720, 773],\n",
       "       [742, 741, 739, 762, 792, 759, 797, 693, 796, 734],\n",
       "       [793, 696, 660, 586, 700, 684, 668, 633, 700, 670]])"
      ]
     },
     "execution_count": 14,
     "metadata": {},
     "output_type": "execute_result"
    }
   ],
   "source": [
    "result1 = result.reshape([10,10])\n",
    "result1"
   ]
  },
  {
   "cell_type": "code",
   "execution_count": 18,
   "metadata": {},
   "outputs": [
    {
     "data": {
      "text/plain": [
       "array([24, 27, 35, 16,  5])"
      ]
     },
     "execution_count": 18,
     "metadata": {},
     "output_type": "execute_result"
    }
   ],
   "source": [
    "np.argpartition(result, -5)[-5:]"
   ]
  },
  {
   "cell_type": "code",
   "execution_count": 47,
   "metadata": {},
   "outputs": [
    {
     "data": {
      "image/png": "[encoded data removed]",
      "text/plain": [
       "<Figure size 432x288 with 1 Axes>"
      ]
     },
     "metadata": {
      "needs_background": "light"
     },
     "output_type": "display_data"
    }
   ],
   "source": [
    "import matplotlib.pyplot as plt\n",
    "\n",
    "  \n",
    "# create data\n",
    "x = [0.1, 0.2, 0.3, 0.4, 0.5, 0.6, 0.7, 0.8, 0.9, 1]\n",
    "fig = plt.figure()\n",
    "ax = plt.subplot(111)  \n",
    "\n",
    "for i in range(10):\n",
    "    ax.plot(x, result1[i], label = \"gamma = \"+ str(x[i]))\n",
    "  \n",
    "ax.legend(loc='center left', bbox_to_anchor=(1, 0.5))\n",
    "plt.xlabel('alpha')\n",
    "plt.ylabel('winning rate')\n",
    "plt.show()"
   ]
  },
  {
   "cell_type": "code",
   "execution_count": 31,
   "metadata": {},
   "outputs": [
    {
     "name": "stdout",
     "output_type": "stream",
     "text": [
      "[0.1 0.6]\n",
      "[0.2 0.7]\n",
      "[0.3 0.5]\n",
      "[0.3 0.8]\n",
      "[0.4 0.6]\n"
     ]
    }
   ],
   "source": [
    " combo = np.array([0.1, 0.6, \n",
    "    0.2, 0.7, \n",
    "    0.3, 0.5, \n",
    "    0.3, 0.8, \n",
    "    0.4, 0.6])\n",
    "combo = combo.reshape(5,2)\n",
    "#combo[i][0], combo[i][1]\n",
    "\n",
    "for i in range(5):\n",
    "    print(combo[i])"
   ]
  },
  {
   "cell_type": "code",
   "execution_count": 48,
   "metadata": {},
   "outputs": [
    {
     "name": "stdout",
     "output_type": "stream",
     "text": [
      "789\n",
      "766\n",
      "794\n",
      "783\n",
      "844\n",
      "803\n",
      "749\n",
      "736\n",
      "753\n",
      "735\n",
      "769\n",
      "722\n",
      "793\n",
      "718\n",
      "860\n",
      "711\n",
      "805\n",
      "849\n",
      "810\n",
      "756\n",
      "758\n",
      "774\n",
      "817\n",
      "822\n",
      "789\n",
      "709\n",
      "708\n",
      "761\n",
      "846\n",
      "740\n",
      "725\n",
      "820\n",
      "777\n",
      "790\n",
      "763\n",
      "755\n",
      "741\n",
      "784\n",
      "798\n",
      "788\n",
      "776\n",
      "809\n",
      "790\n",
      "780\n",
      "811\n",
      "809\n",
      "728\n",
      "770\n",
      "799\n",
      "746\n",
      "758\n",
      "784\n",
      "763\n",
      "787\n",
      "719\n",
      "754\n",
      "803\n",
      "770\n",
      "789\n",
      "790\n",
      "795\n",
      "825\n",
      "773\n",
      "751\n",
      "782\n",
      "807\n",
      "793\n",
      "788\n",
      "753\n",
      "705\n",
      "782\n",
      "799\n",
      "758\n",
      "806\n",
      "781\n",
      "710\n",
      "805\n",
      "761\n",
      "791\n",
      "792\n",
      "804\n",
      "839\n",
      "780\n",
      "777\n",
      "789\n",
      "750\n",
      "713\n",
      "774\n",
      "818\n",
      "734\n",
      "779\n",
      "687\n",
      "789\n",
      "721\n",
      "698\n",
      "803\n",
      "757\n",
      "762\n",
      "799\n",
      "745\n",
      "771\n",
      "774\n",
      "774\n",
      "796\n",
      "747\n",
      "763\n",
      "762\n",
      "805\n",
      "784\n",
      "804\n",
      "744\n",
      "720\n",
      "768\n",
      "817\n",
      "750\n",
      "737\n",
      "826\n",
      "808\n",
      "790\n",
      "747\n",
      "773\n",
      "749\n",
      "776\n",
      "845\n",
      "715\n",
      "--- 59744.274445056915 seconds ---\n"
     ]
    }
   ],
   "source": [
    "start_time = time.time()\n",
    "rewards_td__ = np.zeros((5,25))\n",
    "for k in range(5):\n",
    "    for j in range(25):\n",
    "        td = Learn(size = size)\n",
    "        td.sarsa_td(n_episodes=10000, alpha = combo[k][1], gamma = combo[k][0])\n",
    "\n",
    "        reward_td = 0\n",
    "        for i in range(eval_episodes): \n",
    "                td.env = gym.make('gym_go:go-v0', size=size,  reward_method = \"real\")\n",
    "                td.env.reset()\n",
    "                done = False\n",
    "\n",
    "                while not done:\n",
    "                    states = all_state2num(td.env.state(),size)\n",
    "                    action_index = td.apply_policy(states, 0.1)\n",
    "                    state, reward, done, info = td.env.step(action_index)\n",
    "\n",
    "\n",
    "\n",
    "                    if done:\n",
    "                        break\n",
    "                    # white    \n",
    "                    action = td.env.uniform_random_action()\n",
    "                    state, reward, done, info = td.env.step(action)\n",
    "\n",
    "                #print(reward)\n",
    "                if reward == 1:\n",
    "                    reward_td = reward_td + 1\n",
    "        rewards_td__[k,j] = reward_td\n",
    "        print(reward_td)\n",
    "\n",
    "        \n",
    "print(\"--- %s seconds ---\" % (time.time() - start_time))"
   ]
  },
  {
   "cell_type": "code",
   "execution_count": null,
   "metadata": {},
   "outputs": [],
   "source": [
    "plt.boxplot([rewards_td__[0], rewards_td__[1], rewards_td__[2], rewards_td__[3],rewards_td__[3]],labels=[0,100,1000,10000])\n",
    "plt.xlabel('Number of Episodes')\n",
    "plt.ylabel('Winning Rate')"
   ]
  },
  {
   "cell_type": "code",
   "execution_count": null,
   "metadata": {},
   "outputs": [],
   "source": [
    "# expected short fall\n",
    "import scipy\n",
    "def es(array):\n",
    "    array = np.asarray(array)\n",
    "    value_at_risk = scipy.stats.scoreatpercentile(array, 100 * 0.05)\n",
    "    cvar = array[array <= value_at_risk].mean()\n",
    "    return cvar\n",
    "y1 = [iqr(iteration[0]), iqr(iteration[100]),iqr(iteration[1000]),iqr(iteration[10000])]\n",
    "y2 = [es(iteration[0]), es(iteration[100]),es(iteration[1000]),es(iteration[10000])]"
   ]
  },
  {
   "cell_type": "code",
   "execution_count": 24,
   "metadata": {},
   "outputs": [
    {
     "data": {
      "text/plain": [
       "(15693, 15505)"
      ]
     },
     "execution_count": 24,
     "metadata": {},
     "output_type": "execute_result"
    }
   ],
   "source": [
    "sum(rewards_td__.values()), sum(x1)"
   ]
  },
  {
   "cell_type": "code",
   "execution_count": 28,
   "metadata": {},
   "outputs": [
    {
     "data": {
      "text/plain": [
       "(68.06401398683448, 51.28108813198097)"
      ]
     },
     "execution_count": 28,
     "metadata": {},
     "output_type": "execute_result"
    }
   ],
   "source": [
    "import statistics\n",
    "statistics.stdev(rewards_td__.values()), statistics.stdev(x1)"
   ]
  },
  {
   "cell_type": "markdown",
   "metadata": {},
   "source": [
    "# Evaluation"
   ]
  },
  {
   "cell_type": "code",
   "execution_count": 48,
   "metadata": {},
   "outputs": [
    {
     "data": {
      "image/png": "[encoded data removed]",
      "text/plain": [
       "<Figure size 432x288 with 1 Axes>"
      ]
     },
     "metadata": {
      "needs_background": "light"
     },
     "output_type": "display_data"
    }
   ],
   "source": [
    "# winning rate plot\n",
    "\n",
    "rate = {0:520, 100: 628, 1000: 644, 10000: 741, 50000: 751, 100000: 794, 150000: 763}\n",
    "\n",
    "import matplotlib.pylab as plt\n",
    "\n",
    "\n",
    "myList = rate.items()\n",
    "myList = sorted(myList) \n",
    "x, y = zip(*myList) \n",
    "\n",
    "plt.plot(x, np.asarray(y)/1000)\n",
    "plt.xlabel('Number of Episodes')\n",
    "plt.ylabel('Average Winning Rate')\n",
    "plt.show()\n"
   ]
  },
  {
   "cell_type": "code",
   "execution_count": 39,
   "metadata": {},
   "outputs": [],
   "source": [
    "iteration = dict()\n",
    "iteration[0] = np.asarray(rewards_non)/1000\n",
    "\n",
    "x1 = [732,\n",
    "576,\n",
    "553,\n",
    "734,\n",
    "650,\n",
    "610,\n",
    "640,\n",
    "599,\n",
    "565,\n",
    "685,\n",
    "622,\n",
    "642,\n",
    "610,\n",
    "635,\n",
    "587,\n",
    "582,\n",
    "579,\n",
    "589,\n",
    "594,\n",
    "531,\n",
    "665,\n",
    "592,\n",
    "660,\n",
    "601,\n",
    "672]\n",
    "iteration[100] = np.asarray(x1)/1000\n",
    "\n",
    "x2 = {0: 669,\n",
    " 1: 707,\n",
    " 2: 727,\n",
    " 3: 707,\n",
    " 4: 663,\n",
    " 5: 735,\n",
    " 6: 632,\n",
    " 7: 762,\n",
    " 8: 778,\n",
    " 9: 718,\n",
    " 10: 725,\n",
    " 11: 772,\n",
    " 12: 690,\n",
    " 13: 707,\n",
    " 14: 710,\n",
    " 15: 824,\n",
    " 16: 639,\n",
    " 17: 700,\n",
    " 18: 742,\n",
    " 19: 692,\n",
    " 20: 713,\n",
    " 21: 777,\n",
    " 22: 708,\n",
    " 23: 703,\n",
    " 24: 714}\n",
    "iteration[1000] = np.asarray(list(x2.values()))/1000\n",
    "\n",
    "x3= {0: 743,\n",
    " 1: 743,\n",
    " 2: 747,\n",
    " 3: 771,\n",
    " 4: 775,\n",
    " 5: 732,\n",
    " 6: 749,\n",
    " 7: 791,\n",
    " 8: 824,\n",
    " 9: 725,\n",
    " 10: 748,\n",
    " 11: 706,\n",
    " 12: 754,\n",
    " 13: 823,\n",
    " 14: 702,\n",
    " 15: 751,\n",
    " 16: 823,\n",
    " 17: 756,\n",
    " 18: 727,\n",
    " 19: 782,\n",
    " 20: 672,\n",
    " 21: 792,\n",
    " 22: 740,\n",
    " 23: 722,\n",
    " 24: 749}\n",
    "iteration[10000] = np.asarray(list(x3.values()))/1000"
   ]
  },
  {
   "cell_type": "code",
   "execution_count": 47,
   "metadata": {},
   "outputs": [
    {
     "data": {
      "text/plain": [
       "Text(0, 0.5, 'Winning Rate')"
      ]
     },
     "execution_count": 47,
     "metadata": {},
     "output_type": "execute_result"
    },
    {
     "data": {
      "image/png": "[encoded data removed]",
      "text/plain": [
       "<Figure size 432x288 with 1 Axes>"
      ]
     },
     "metadata": {
      "needs_background": "light"
     },
     "output_type": "display_data"
    }
   ],
   "source": [
    "plt.boxplot([iteration[0], iteration[100], iteration[1000], iteration[10000]],labels=[0,100,1000,10000])\n",
    "plt.xlabel('Number of Episodes')\n",
    "plt.ylabel('Winning Rate')"
   ]
  },
  {
   "cell_type": "code",
   "execution_count": 58,
   "metadata": {},
   "outputs": [
    {
     "data": {
      "image/png": "[encoded data removed]",
      "text/plain": [
       "<Figure size 432x288 with 1 Axes>"
      ]
     },
     "metadata": {
      "needs_background": "light"
     },
     "output_type": "display_data"
    }
   ],
   "source": [
    "# iqr\n",
    "y1 = [iqr(iteration[0]), iqr(iteration[100]),iqr(iteration[1000]),iqr(iteration[10000])]\n",
    "\n",
    "x = [0, 100, 1000, 10000]\n",
    "\n",
    "\n",
    "plt.plot(x, y1)\n",
    "plt.xlabel('Number of Episodes')\n",
    "plt.ylabel('IQR')\n",
    "plt.show()"
   ]
  },
  {
   "cell_type": "code",
   "execution_count": 43,
   "metadata": {},
   "outputs": [],
   "source": [
    "# expected short fall\n",
    "import scipy\n",
    "def es(array):\n",
    "    array = np.asarray(array)\n",
    "    value_at_risk = scipy.stats.scoreatpercentile(array, 100 * 0.05)\n",
    "    cvar = array[array <= value_at_risk].mean()\n",
    "    return cvar\n",
    "y1 = [iqr(iteration[0]), iqr(iteration[100]),iqr(iteration[1000]),iqr(iteration[10000])]\n",
    "y2 = [es(iteration[0]), es(iteration[100]),es(iteration[1000]),es(iteration[10000])]"
   ]
  },
  {
   "cell_type": "code",
   "execution_count": 59,
   "metadata": {},
   "outputs": [
    {
     "data": {
      "image/png": "[encoded data removed]",
      "text/plain": [
       "<Figure size 432x288 with 1 Axes>"
      ]
     },
     "metadata": {
      "needs_background": "light"
     },
     "output_type": "display_data"
    }
   ],
   "source": [
    "# iqr\n",
    "\n",
    "\n",
    "y2 = [es(iteration[0]), es(iteration[100]),es(iteration[1000]),es(iteration[10000])]\n",
    "\n",
    "x = [0, 100, 1000, 10000]\n",
    "\n",
    "\n",
    "plt.plot(x, y2)\n",
    "plt.xlabel('Number of Episodes')\n",
    "plt.ylabel('CVaRs')\n",
    "plt.show()\n",
    "\n",
    "\n"
   ]
  },
  {
   "cell_type": "code",
   "execution_count": 60,
   "metadata": {},
   "outputs": [
    {
     "data": {
      "text/plain": [
       "[Text(0.5, 0, 'Number of Episodes'), Text(0, 0.5, 'CVaRs')]"
      ]
     },
     "execution_count": 60,
     "metadata": {},
     "output_type": "execute_result"
    },
    {
     "data": {
      "image/png": "[encoded data removed]",
      "text/plain": [
       "<Figure size 432x288 with 2 Axes>"
      ]
     },
     "metadata": {
      "needs_background": "light"
     },
     "output_type": "display_data"
    }
   ],
   "source": [
    "fig, axs = plt.subplots(2)\n",
    "axs[0].plot(x, y1)\n",
    "axs[1].plot(x, y2)\n",
    "axs[0].set(xlabel='Number of Episodes', ylabel='IQR')\n",
    "axs[1].set(xlabel='Number of Episodes', ylabel='CVaRs')"
   ]
  },
  {
   "cell_type": "code",
   "execution_count": 33,
   "metadata": {},
   "outputs": [
    {
     "data": {
      "text/plain": [
       "(506.1304347826087, 610.3913043478261, 709.2173913043479, 750.9583333333334)"
      ]
     },
     "execution_count": 33,
     "metadata": {},
     "output_type": "execute_result"
    }
   ],
   "source": [
    "# expected short fall\n",
    "import scipy\n",
    "def es(array):\n",
    "    array = np.asarray(array)\n",
    "    value_at_risk = scipy.stats.scoreatpercentile(array, 100 * (1-0.05))\n",
    "    cvar = array[array <= value_at_risk].mean()\n",
    "    return cvar\n",
    "es(iteration[0]), es(iteration[100]),es(iteration[1000]),es(iteration[10000])"
   ]
  },
  {
   "cell_type": "code",
   "execution_count": null,
   "metadata": {},
   "outputs": [],
   "source": [
    "value_at_risk = scipy.stats.scoreatpercentile(array, 100 * 0.05)\n",
    "cvar = array[array <= value_at_risk].mean()"
   ]
  },
  {
   "cell_type": "code",
   "execution_count": 174,
   "metadata": {},
   "outputs": [],
   "source": [
    "array = np.asarray(iteration[100])"
   ]
  },
  {
   "cell_type": "markdown",
   "metadata": {},
   "source": [
    "# old"
   ]
  },
  {
   "cell_type": "code",
   "execution_count": 125,
   "metadata": {},
   "outputs": [],
   "source": [
    "reward_td = 0\n",
    "for i in range(1000): \n",
    "    td.env = gym.make('gym_go:go-v0', size=size,  reward_method = \"real\")\n",
    "    td.env.reset()\n",
    "    done = False\n",
    "\n",
    "    while not done:\n",
    "        states = all_state2num(td.env.state(),size)\n",
    "        action_index = td.apply_policy(states, 0.1)\n",
    "        state, reward, done, info = td.env.step(action_index)\n",
    "        if done:\n",
    "            break\n",
    "        # white    \n",
    "        action = td.env.uniform_random_action()\n",
    "        state, reward, done, info = td.env.step(action)\n",
    "    if reward == 1:\n",
    "        reward_td += 1"
   ]
  },
  {
   "cell_type": "markdown",
   "metadata": {},
   "source": [
    "### Save policy"
   ]
  },
  {
   "cell_type": "code",
   "execution_count": 41,
   "metadata": {},
   "outputs": [],
   "source": [
    "# save policy\n",
    "#dict_data = td.action_function\n",
    "#a_file = open(\"data.pkl\", \"wb\")\n",
    "#pickle.dump(dict_data, a_file)\n",
    "#a_file.close()\n",
    "size = 3\n",
    "td = Learn(size = size)\n",
    "a_file = open(\"data.pkl\", \"rb\")\n",
    "output = pickle.load(a_file)\n",
    "\n",
    "a_file.close()\n",
    "td.load_policy(output)"
   ]
  },
  {
   "cell_type": "markdown",
   "metadata": {},
   "source": [
    "## reward & Value Function"
   ]
  },
  {
   "cell_type": "code",
   "execution_count": 47,
   "metadata": {},
   "outputs": [
    {
     "name": "stdout",
     "output_type": "stream",
     "text": [
      "0\n",
      "1\n",
      "2\n",
      "3\n",
      "4\n",
      "5\n",
      "6\n",
      "7\n",
      "8\n",
      "9\n",
      "10\n",
      "11\n",
      "12\n",
      "13\n",
      "14\n",
      "15\n",
      "16\n",
      "17\n",
      "18\n",
      "19\n",
      "20\n",
      "21\n",
      "22\n",
      "23\n",
      "24\n"
     ]
    }
   ],
   "source": [
    "# after traning \n",
    "rewards_td = [0]*25\n",
    "#value_td = [0]*25\n",
    "states_start = [0]*25\n",
    "states_end = [0]*25\n",
    "states_inter = [0]*25\n",
    "for j in range(25):\n",
    "    print(j)\n",
    "    reward_td = []\n",
    "    start = []\n",
    "    end = []\n",
    "    inter  = []\n",
    "\n",
    "    for i in range(1000): \n",
    "        td.env = gym.make('gym_go:go-v0', size=size,  reward_method = \"real\")\n",
    "\n",
    "        done = False\n",
    "\n",
    "        states = all_state2num(td.env.state(),size)\n",
    "        #state = a.env.state()[0:2].reshape(size**2*2)\n",
    "        action_index = td.apply_policy(states, 0.1)\n",
    "        #action = go_env.uniform_random_action()\n",
    "        state, reward, done, info = td.env.step(action_index)\n",
    "\n",
    "        idx, s, f = symmetry_action(all_state2num(td.env.state(), size), td.action_function, 0, size)\n",
    "\n",
    "        start.append(s)\n",
    "        reward_td.append(reward)\n",
    "\n",
    "        while not done:\n",
    "             # white    \n",
    "            action = td.env.uniform_random_action()\n",
    "            state, reward, done, info = td.env.step(action)\n",
    "\n",
    "            if done:\n",
    "                break\n",
    "\n",
    "\n",
    "            states = all_state2num(td.env.state(),size)\n",
    "\n",
    "            #state = a.env.state()[0:2].reshape(size**2*2)\n",
    "            action_index = td.apply_policy(states, 0.1)\n",
    "            #action = go_env.uniform_random_action()\n",
    "            state, reward, done, info = td.env.step(action_index)\n",
    "            #print(reward)\n",
    "            [action_idx, state, flag] = symmetry_action(states, td.action_function, action_index, size)\n",
    "            \n",
    "            # state \n",
    "            inter.append(state)\n",
    "                \n",
    "            # reward\n",
    "            if not done:\n",
    "                reward_td.append(reward)\n",
    "\n",
    "\n",
    "        idx, s, f = symmetry_action(states, td.action_function, 0, size) \n",
    "        \n",
    "        end.append(s)\n",
    "        \n",
    "    states_start[j] = start\n",
    "    states_end[j] = end\n",
    "    states_inter[j] = inter\n",
    "    rewards_td[j]=reward_td\n",
    "        \n",
    "        \n",
    "        "
   ]
  },
  {
   "cell_type": "markdown",
   "metadata": {},
   "source": [
    "# Evaluation\n",
    "## reward"
   ]
  },
  {
   "cell_type": "code",
   "execution_count": 370,
   "metadata": {},
   "outputs": [
    {
     "data": {
      "text/plain": [
       "(837, 47, 116)"
      ]
     },
     "execution_count": 370,
     "metadata": {},
     "output_type": "execute_result"
    }
   ],
   "source": [
    "# increace winning rate by ~25%\n",
    "rewards.count(1.0),rewards.count(0),rewards.count(-1)"
   ]
  },
  {
   "cell_type": "code",
   "execution_count": 21,
   "metadata": {},
   "outputs": [
    {
     "data": {
      "image/png": "[encoded data removed]",
      "text/plain": [
       "<Figure size 432x288 with 1 Axes>"
      ]
     },
     "metadata": {
      "needs_background": "light"
     },
     "output_type": "display_data"
    },
    {
     "name": "stdout",
     "output_type": "stream",
     "text": [
      "[4.0, 4.0, 4.0, 4.0, 4.0, 4.0, 4.0, 4.0, 4.0, 4.0, 4.0, 4.0, 4.0, 4.0, 4.0, 4.0, 4.0, 4.0, 4.0, 4.0, 4.0, 4.0, 4.0, 4.0, 4.0]\n"
     ]
    },
    {
     "data": {
      "image/png": "[encoded data removed]",
      "text/plain": [
       "<Figure size 432x288 with 1 Axes>"
      ]
     },
     "metadata": {
      "needs_background": "light"
     },
     "output_type": "display_data"
    },
    {
     "name": "stdout",
     "output_type": "stream",
     "text": [
      "[8.0, 8.0, 8.0, 8.0, 8.0, 8.0, 8.0, 8.0, 8.0, 8.0, 8.0, 8.0, 8.0, 8.0, 8.0, 8.0, 8.0, 8.0, 8.0, 8.0, 8.0, 8.0, 8.0, 8.0, 8.0]\n"
     ]
    }
   ],
   "source": [
    "# Random\n",
    "from matplotlib.ticker import PercentFormatter\n",
    "#np.save('rewards_inter_non.npy', rewards_inter_non)\n",
    "rewards_inter_non = np.load('rewards_inter_non.npy', allow_pickle=True)\n",
    "plt.hist(rewards_inter_non[1], weights=np.ones(len(rewards_inter_non[1])) / len(rewards_inter_non[1]), bins = 18)\n",
    "plt.gca().yaxis.set_major_formatter(PercentFormatter(1))\n",
    "plt.ylabel('Percentage of Occurrence')\n",
    "plt.xlabel('Random Reward')\n",
    "plt.show()\n",
    "non_iqr = []\n",
    "for i in rewards_inter_non:\n",
    "    non_iqr.append(iqr(i))\n",
    "print(non_iqr)\n",
    "#plt.boxplot(non_iqr)\n",
    "\n",
    "# TD\n",
    "#np.save('rewards_td.npy', rewards_td)\n",
    "rewards_td = np.load('rewards_td.npy', allow_pickle=True)\n",
    "plt.hist(rewards_td[1], weights=np.ones(len(rewards_td[1])) / len(rewards_td[1]), bins = 18)\n",
    "plt.gca().yaxis.set_major_formatter(PercentFormatter(1))\n",
    "plt.ylabel('Percentage of Occurrence')\n",
    "plt.xlabel('TD Reward')\n",
    "\n",
    "plt.show()\n",
    "td_iqr = []\n",
    "for i in rewards_td:\n",
    "    td_iqr.append(iqr(i))\n",
    "#plt.boxplot(td_iqr)\n",
    "print(td_iqr)"
   ]
  },
  {
   "cell_type": "markdown",
   "metadata": {},
   "source": [
    "## Value Function"
   ]
  },
  {
   "cell_type": "code",
   "execution_count": 63,
   "metadata": {},
   "outputs": [],
   "source": [
    "start_values = []\n",
    "for i in states_start:\n",
    "    start_value = []\n",
    "    for j in i:\n",
    "        if j not in td.action_function:\n",
    "            start_value.append(0)\n",
    "        else:\n",
    "            start_value.append(np.sum(td.action_function[j]))\n",
    "    start_values.append(start_value)\n",
    "    \n",
    "end_values = []\n",
    "for i in states_end:\n",
    "    end_value = []\n",
    "    for j in i:\n",
    "        if j not in td.action_function:\n",
    "            end_value.append(0)\n",
    "        else:\n",
    "            end_value.append(np.sum(td.action_function[j]))\n",
    "    end_values.append(end_value)\n",
    "    \n",
    "inter_values = []\n",
    "for i in states_inter:\n",
    "    inter_value = []\n",
    "    for j in i:\n",
    "        if j not in td.action_function:\n",
    "            inter_value.append(0)\n",
    "        else:\n",
    "            inter_value.append(np.sum(td.action_function[j]))\n",
    "    inter_values.append(inter_value)\n",
    "    \n",
    "all_values = []\n",
    "for i in range(25):\n",
    "    all_value = []\n",
    "    all_value.extend(start_values[i])\n",
    "    all_value.extend(end_values[i])\n",
    "    all_value.extend(inter_values[i])\n",
    "    all_values.append(all_value)\n",
    "#ax = sns.distplot(ls, bins=20, kde=False)\n",
    "#plt.ylabel('No. Occurance')\n",
    "#plt.xlabel('State Value (Starting States)')\n",
    "#plt.show()"
   ]
  },
  {
   "cell_type": "code",
   "execution_count": 70,
   "metadata": {},
   "outputs": [
    {
     "data": {
      "image/png": "[encoded data removed]",
      "text/plain": [
       "<Figure size 432x288 with 1 Axes>"
      ]
     },
     "metadata": {
      "needs_background": "light"
     },
     "output_type": "display_data"
    },
    {
     "data": {
      "image/png": "[encoded data removed]",
      "text/plain": [
       "<Figure size 432x288 with 1 Axes>"
      ]
     },
     "metadata": {
      "needs_background": "light"
     },
     "output_type": "display_data"
    },
    {
     "data": {
      "image/png": "[encoded data removed]",
      "text/plain": [
       "<Figure size 432x288 with 1 Axes>"
      ]
     },
     "metadata": {
      "needs_background": "light"
     },
     "output_type": "display_data"
    },
    {
     "data": {
      "image/png": "[encoded data removed]",
      "text/plain": [
       "<Figure size 432x288 with 1 Axes>"
      ]
     },
     "metadata": {
      "needs_background": "light"
     },
     "output_type": "display_data"
    }
   ],
   "source": [
    "#np.save('start_values.npy', start_values)\n",
    "#np.save('end_values.npy', end_values)\n",
    "#np.save('inter_values.npy', inter_values)\n",
    "#np.save('all_values.npy', all_values)\n",
    "\n",
    "#start_values = np.load('start_values.npy', allow_pickle=True)\n",
    "#end_values = np.load('end_values.npy', allow_pickle=True)\n",
    "#inter_values = np.load('inter_values.npy', allow_pickle=True)\n",
    "#all_values = np.load('all_values.npy', allow_pickle=True)\n",
    "\n",
    "plt.hist(start_values[1], weights=np.ones(len(start_values[1])) / len(start_values[1]), bins = 100)\n",
    "plt.gca().yaxis.set_major_formatter(PercentFormatter(1))\n",
    "plt.ylabel('Percentage of Occurrence')\n",
    "plt.xlabel('Value Function-Start')\n",
    "plt.show()\n",
    "\n",
    "plt.hist(end_values[1], weights=np.ones(len(end_values[1])) / len(end_values[1]), bins = 100)\n",
    "plt.gca().yaxis.set_major_formatter(PercentFormatter(1))\n",
    "plt.ylabel('Percentage of Occurrence')\n",
    "plt.xlabel('Value Function-End')\n",
    "plt.show()\n",
    "\n",
    "plt.hist(inter_values[1], weights=np.ones(len(inter_values[1])) / len(inter_values[1]), bins = 100)\n",
    "plt.gca().yaxis.set_major_formatter(PercentFormatter(1))\n",
    "plt.ylabel('Percentage of Occurrence')\n",
    "plt.xlabel('Value Function-Inter')\n",
    "plt.show()\n",
    "\n",
    "plt.hist(all_values[1], weights=np.ones(len(all_values[1])) / len(all_values[1]), bins = 100)\n",
    "plt.gca().yaxis.set_major_formatter(PercentFormatter(1))\n",
    "plt.ylabel('Percentage of Occurrence')\n",
    "plt.xlabel('Value Function-All')\n",
    "plt.show()\n",
    "\n"
   ]
  },
  {
   "cell_type": "code",
   "execution_count": 82,
   "metadata": {},
   "outputs": [
    {
     "data": {
      "text/plain": [
       "Text(0.5, 0, 'States')"
      ]
     },
     "execution_count": 82,
     "metadata": {},
     "output_type": "execute_result"
    },
    {
     "data": {
      "image/png": "[encoded data removed]",
      "text/plain": [
       "<Figure size 432x288 with 1 Axes>"
      ]
     },
     "metadata": {
      "needs_background": "light"
     },
     "output_type": "display_data"
    }
   ],
   "source": [
    "all_iqr_value = []\n",
    "start_iqr_value = []\n",
    "end_iqr_value = []\n",
    "inter_iqr_value = []\n",
    "for i in range(25):\n",
    "    all_iqr_value.append(iqr(all_values[i]))\n",
    "    start_iqr_value.append(iqr(start_values[i]))\n",
    "    end_iqr_value.append(iqr(end_values[i]))\n",
    "    inter_iqr_value.append(iqr(inter_values[i]))\n",
    "plt.boxplot([all_iqr_value,start_iqr_value, end_iqr_value, inter_iqr_value], \n",
    "            labels=list('ASEI'))\n",
    "plt.ylabel('IQR')\n",
    "plt.xlabel('States')"
   ]
  },
  {
   "cell_type": "code",
   "execution_count": null,
   "metadata": {},
   "outputs": [],
   "source": []
  }
 ],
 "metadata": {
  "kernelspec": {
   "display_name": "Python 3",
   "language": "python",
   "name": "python3"
  },
  "language_info": {
   "codemirror_mode": {
    "name": "ipython",
    "version": 3
   },
   "file_extension": ".py",
   "mimetype": "text/x-python",
   "name": "python",
   "nbconvert_exporter": "python",
   "pygments_lexer": "ipython3",
   "version": "3.8.8"
  }
 },
 "nbformat": 4,
 "nbformat_minor": 4
}
