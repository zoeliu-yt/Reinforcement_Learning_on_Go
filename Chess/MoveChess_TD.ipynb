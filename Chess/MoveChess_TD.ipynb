{
 "cells": [
  {
   "cell_type": "markdown",
   "metadata": {
    "id": "Uq9ziHnmKvkI"
   },
   "source": [
    "There are two major intermidiate steps when solving chess problem:\n",
    "1. Move Chess:\n",
    "\n",
    ">> Objective: find the shortest path between 2 spots on a chess board\n",
    "\n",
    ">> Motivation: Move Chess effectively\n",
    "\n",
    "2. Capture Chess\n",
    "\n",
    ">> Objective: capture as many pieces from the opponent within centain fullmoves\n",
    "\n",
    ">> Motivation: Piece captures as one way of reward.\n",
    "\n",
    "\n",
    "Today we focus on Move chess"
   ]
  },
  {
   "cell_type": "markdown",
   "metadata": {
    "id": "aTDi57bymfrV"
   },
   "source": [
    "# Load and Import Package"
   ]
  },
  {
   "cell_type": "code",
   "execution_count": null,
   "metadata": {
    "id": "VS1maVXrqT3D"
   },
   "outputs": [],
   "source": [
    "!pip install --upgrade git+https://github.com/arjangroen/RLC.git \n",
    "!pip install python-chess  \n",
    "# Python-Chess is the Python Chess Package that handles the chess environment"
   ]
  },
  {
   "cell_type": "code",
   "execution_count": null,
   "metadata": {
    "id": "UiRPTTKQBu6R"
   },
   "outputs": [],
   "source": [
    "from RLC.move_chess.environment import Board\n",
    "from RLC.move_chess.agent import Piece\n",
    "from RLC.move_chess.learn import Reinforce\n",
    "import inspect"
   ]
  },
  {
   "cell_type": "code",
   "execution_count": null,
   "metadata": {
    "id": "K9sP93rNR2t3"
   },
   "outputs": [],
   "source": [
    "print(inspect.getsource(Reinforce))\n",
    "# play episodes, train and evaluate value and policy function "
   ]
  },
  {
   "cell_type": "code",
   "execution_count": null,
   "metadata": {
    "id": "UDcEUODNSN2V"
   },
   "outputs": [],
   "source": [
    "print(inspect.getsource(Piece)) # choose agent, apply policy, set move rule"
   ]
  },
  {
   "cell_type": "code",
   "execution_count": null,
   "metadata": {
    "id": "zIPM_I-mSSic"
   },
   "outputs": [],
   "source": [
    "print(inspect.getsource(Board)) # take step, render chess board"
   ]
  },
  {
   "cell_type": "markdown",
   "metadata": {
    "id": "JqVqulX-WJQT"
   },
   "source": [
    "# Load Chess"
   ]
  },
  {
   "cell_type": "code",
   "execution_count": null,
   "metadata": {
    "colab": {
     "base_uri": "https://localhost:8080/"
    },
    "executionInfo": {
     "elapsed": 343,
     "status": "ok",
     "timestamp": 1609206232959,
     "user": {
      "displayName": "Yuetong Liu",
      "photoUrl": "https://lh3.googleusercontent.com/a-/AOh14Gjled0guJ9UlVUNssv1mWyc5TCUXbCOP3JIGHMPzQ=s64",
      "userId": "07904439503082268536"
     },
     "user_tz": 300
    },
    "id": "KZHb_HqS081K",
    "outputId": "667a3759-8a4c-46e4-b6e2-bb4dd1091fd3"
   },
   "outputs": [
    {
     "data": {
      "text/plain": [
       "[['[S]', '[ ]', '[ ]', '[ ]', '[ ]', '[ ]', '[ ]', '[ ]'],\n",
       " ['[ ]', '[ ]', '[ ]', '[ ]', '[ ]', '[ ]', '[ ]', '[ ]'],\n",
       " ['[ ]', '[ ]', '[ ]', '[ ]', '[ ]', '[ ]', '[ ]', '[ ]'],\n",
       " ['[ ]', '[ ]', '[ ]', '[ ]', '[ ]', '[ ]', '[ ]', '[ ]'],\n",
       " ['[ ]', '[ ]', '[ ]', '[ ]', '[ ]', '[ ]', '[ ]', '[ ]'],\n",
       " ['[ ]', '[ ]', '[ ]', '[ ]', '[ ]', '[ ]', '[ ]', '[ ]'],\n",
       " ['[ ]', '[ ]', '[ ]', '[ ]', '[ ]', '[ ]', '[ ]', '[ ]'],\n",
       " ['[ ]', '[ ]', '[ ]', '[ ]', '[ ]', '[F]', '[ ]', '[ ]']]"
      ]
     },
     "execution_count": 50,
     "metadata": {
      "tags": []
     },
     "output_type": "execute_result"
    }
   ],
   "source": [
    "p = Piece(piece='king') # select a chess agent (knight, bishop or rook)\n",
    "env = Board() # 8*8 chess board\n",
    "r = Reinforce(p,env) \n",
    "env.render()\n",
    "env.visual_board # S start position, F is terminate position"
   ]
  },
  {
   "cell_type": "markdown",
   "metadata": {
    "id": "qkEYLLFqTpQY"
   },
   "source": [
    "# Temporal Difference Learning\n",
    "We update our state-action value in the direction of the successor state action value.\n",
    "\n",
    "The algorithm is called SARSA: State-Action-Reward-State-Action.\n"
   ]
  },
  {
   "cell_type": "markdown",
   "metadata": {
    "id": "TuLJ_He7qD0z"
   },
   "source": [
    "# Algorithm\n",
    "\n",
    "TD(0): actual action value\n",
    "\n",
    "$Q(s, a) = Q(s, a) + \\alpha (r + \\gamma*Q(s' , a' )-Q(s, a))$"
   ]
  },
  {
   "cell_type": "code",
   "execution_count": null,
   "metadata": {
    "id": "IPr-jPkZFOGn"
   },
   "outputs": [],
   "source": [
    "def sarsa_td(self, n_episodes=1000, alpha=0.01, gamma=0.9):\n",
    "        \"\"\"\n",
    "        Run the sarsa control algorithm (TD0), \n",
    "        finding the optimal policy and action function\n",
    "        :param n_episodes: int, amount of episodes to train\n",
    "        :param alpha: learning rate\n",
    "        :param gamma: discount factor of future rewards\n",
    "        :return: finds the optimal policy for move chess\n",
    "        \"\"\"\n",
    "        for k in range(n_episodes):\n",
    "            state = (0, 0)\n",
    "            self.env.state = state\n",
    "            episode_end = False\n",
    "            epsilon = max(1 / (1 + k), 0.05)\n",
    "            while not episode_end:\n",
    "                state = self.env.state\n",
    "                action_index = self.agent.apply_policy(state, epsilon)\n",
    "                action = self.agent.action_space[action_index]\n",
    "                reward, episode_end = self.env.step(action)\n",
    "                successor_state = self.env.state\n",
    "                successor_action_index = \n",
    "                self.agent.apply_policy(successor_state, epsilon) #diff\n",
    "\n",
    "                action_value = self.agent.action_function[state[0], \n",
    "                                                          state[1], \n",
    "                                                          action_index]\n",
    "                successor_action_value = \n",
    "                self.agent.action_function[successor_state[0],\n",
    "                                           successor_state[1], \n",
    "                                           successor_action_index]\n",
    "\n",
    "                q_update = alpha * (reward + gamma * successor_action_value -\n",
    "                                    action_value)\n",
    "\n",
    "                self.agent.action_function[state[0], \n",
    "                                           state[1], \n",
    "                                           action_index] += q_update\n",
    "                self.agent.policy = self.agent.action_function.copy()"
   ]
  },
  {
   "cell_type": "code",
   "execution_count": null,
   "metadata": {},
   "outputs": [],
   "source": [
    "def TD_zero(self, epsilon=0.1, alpha=0.05, max_steps=1000, lamb=0.9):\n",
    "        \"\"\"\n",
    "        Find the value function of move chess states\n",
    "        :param epsilon: exploration rate\n",
    "        :param alpha: learning rate\n",
    "        :param max_steps: max amount of steps in an episode\n",
    "        \"\"\"\n",
    "        state = (0, 0)\n",
    "        self.env.state = state\n",
    "        states = []\n",
    "        actions = []\n",
    "        rewards = []\n",
    "        episode_end = False\n",
    "        count_steps = 0\n",
    "        while not episode_end:\n",
    "            count_steps += 1\n",
    "            states.append(state)\n",
    "            action_index = self.agent.apply_policy(state, epsilon=epsilon)\n",
    "            action = self.agent.action_space[action_index]\n",
    "            actions.append(action)\n",
    "            reward, episode_end = self.env.step(action)\n",
    "            suc_state = self.env.state\n",
    "            self.agent.value_function[state[0], state[1]] = self.agent.value_function[state[0], state[1]] + alpha * (\n",
    "                    reward + lamb * self.agent.value_function[suc_state[0], suc_state[1]] - self.agent.value_function[\n",
    "                state[0], state[1]])\n",
    "            state = self.env.state\n",
    "\n",
    "            if count_steps > max_steps:\n",
    "                episode_end = True"
   ]
  },
  {
   "cell_type": "markdown",
   "metadata": {
    "id": "no4EJhTRGy7g"
   },
   "source": [
    "TD(lambda): eligibility-trace to keep track of the previously encountered states\n",
    "\n",
    "$E_t(s) = \\gamma \\lambda E_{t-1}(s)+1(S_t = s)$\n",
    "\n",
    "$Q(s, a) = Q(s, a) + \\alpha (r + \\gamma*Q(s' , a' )-Q(s, a))E_t(s)$"
   ]
  },
  {
   "cell_type": "code",
   "execution_count": null,
   "metadata": {
    "id": "60kctyzNeoEu"
   },
   "outputs": [],
   "source": [
    "def sarsa_lambda(self, n_episodes=1000, alpha=0.05, gamma=0.9, lamb=0.8):\n",
    "        \"\"\"\n",
    "        Run the sarsa control algorithm (TD lambda), \n",
    "        finding the optimal policy and action function\n",
    "        :param n_episodes: int, amount of episodes to train\n",
    "        :param alpha: learning rate\n",
    "        :param gamma: discount factor of future rewards\n",
    "        :param lamb: lambda parameter describing the decay over n-step returns\n",
    "        :return: finds the optimal move chess policy\n",
    "        \"\"\"\n",
    "        for k in range(n_episodes):\n",
    "            self.agent.E = np.zeros(shape=self.agent.action_function.shape)\n",
    "            state = (0, 0)\n",
    "            self.env.state = state\n",
    "            episode_end = False\n",
    "            epsilon = max(1 / (1 + k), 0.2)\n",
    "            action_index = self.agent.apply_policy(state, epsilon)\n",
    "            action = self.agent.action_space[action_index]\n",
    "            while not episode_end:\n",
    "                reward, episode_end = self.env.step(action)\n",
    "                successor_state = self.env.state\n",
    "                successor_action_index = \n",
    "                self.agent.apply_policy(successor_state, epsilon) \n",
    "\n",
    "                action_value = self.agent.action_function[state[0], \n",
    "                                                          state[1], \n",
    "                                                          action_index]\n",
    "                if not episode_end:\n",
    "                    successor_action_value = \n",
    "                    self.agent.action_function[successor_state[0],\n",
    "                                               successor_state[1], \n",
    "                                               successor_action_index]\n",
    "                else:\n",
    "                    successor_action_value = 0\n",
    "                delta = reward + gamma * successor_action_value - action_value\n",
    "                self.agent.E[state[0], state[1], action_index] += 1\n",
    "                self.agent.action_function = self.agent.action_function + \n",
    "                alpha * delta * self.agent.E\n",
    "                self.agent.E = gamma * lamb * self.agent.E\n",
    "                state = successor_state\n",
    "                action = self.agent.action_space[successor_action_index]\n",
    "                action_index = successor_action_index\n",
    "                self.agent.policy = self.agent.action_function.copy()"
   ]
  },
  {
   "cell_type": "code",
   "execution_count": null,
   "metadata": {
    "colab": {
     "base_uri": "https://localhost:8080/"
    },
    "executionInfo": {
     "elapsed": 1085,
     "status": "ok",
     "timestamp": 1609211781453,
     "user": {
      "displayName": "Yuetong Liu",
      "photoUrl": "https://lh3.googleusercontent.com/a-/AOh14Gjled0guJ9UlVUNssv1mWyc5TCUXbCOP3JIGHMPzQ=s64",
      "userId": "07904439503082268536"
     },
     "user_tz": 300
    },
    "id": "MImxqzPSfsCa",
    "outputId": "cff61369-1755-4bf3-c7d2-74d1a03a4c58"
   },
   "outputs": [
    {
     "data": {
      "text/plain": [
       "8"
      ]
     },
     "execution_count": 70,
     "metadata": {
      "tags": []
     },
     "output_type": "execute_result"
    }
   ],
   "source": [
    "r.sarsa_td(n_episodes=1000, alpha=0.05, gamma=0.9)\n",
    "states, actions, rewards = r.play_episode(state = (0,0), \n",
    "                                          max_steps=1e3, epsilon=0.1)\n",
    "len(actions)"
   ]
  },
  {
   "cell_type": "code",
   "execution_count": null,
   "metadata": {
    "colab": {
     "base_uri": "https://localhost:8080/"
    },
    "executionInfo": {
     "elapsed": 1151,
     "status": "ok",
     "timestamp": 1609206604119,
     "user": {
      "displayName": "Yuetong Liu",
      "photoUrl": "https://lh3.googleusercontent.com/a-/AOh14Gjled0guJ9UlVUNssv1mWyc5TCUXbCOP3JIGHMPzQ=s64",
      "userId": "07904439503082268536"
     },
     "user_tz": 300
    },
    "id": "kV12avd0_aXV",
    "outputId": "4578fd0f-208a-455f-97ae-80ba9c966d45"
   },
   "outputs": [
    {
     "data": {
      "text/plain": [
       "8"
      ]
     },
     "execution_count": 61,
     "metadata": {
      "tags": []
     },
     "output_type": "execute_result"
    }
   ],
   "source": [
    "r.sarsa_lambda(n_episodes=1000, alpha=0.05, gamma=0.9, lamb=0.8)\n",
    "states, actions, rewards = r.play_episode(state = (0,0), \n",
    "                                          max_steps=1e3, epsilon=0.1)\n",
    "len(actions)"
   ]
  },
  {
   "cell_type": "markdown",
   "metadata": {
    "id": "5hhGt8UGp6Mm"
   },
   "source": [
    "# Visualize the learning progress"
   ]
  },
  {
   "cell_type": "code",
   "execution_count": null,
   "metadata": {
    "colab": {
     "base_uri": "https://localhost:8080/",
     "height": 280
    },
    "executionInfo": {
     "elapsed": 9348,
     "status": "ok",
     "timestamp": 1609212127381,
     "user": {
      "displayName": "Yuetong Liu",
      "photoUrl": "https://lh3.googleusercontent.com/a-/AOh14Gjled0guJ9UlVUNssv1mWyc5TCUXbCOP3JIGHMPzQ=s64",
      "userId": "07904439503082268536"
     },
     "user_tz": 300
    },
    "id": "MaGBeQfAZ-WT",
    "outputId": "6dd30a09-1a54-45da-a6a4-694b8e2bc597"
   },
   "outputs": [
    {
     "data": {
      "image/png": "[encoded data removed]",
      "text/plain": [
       "<Figure size 432x288 with 1 Axes>"
      ]
     },
     "metadata": {
      "needs_background": "light",
      "tags": []
     },
     "output_type": "display_data"
    }
   ],
   "source": [
    "p = Piece(piece='king') # select a chess agent (knight, bishop or rook)\n",
    "env = Board() # 8*8 chess board\n",
    "r = Reinforce(p,env) \n",
    "eva = [] # numnbe of step to get to desired position\n",
    "\n",
    "for i in range(300):\n",
    "  r.sarsa_td(n_episodes=1, alpha=0.05, gamma=0.9)\n",
    "  states, actions, rewards = r.play_episode(state = (0,0), \n",
    "                                            max_steps=1e3, epsilon=0.1)\n",
    "  eva.append(len(actions))\n",
    "import matplotlib.pyplot as plt\n",
    "plt.plot(eva)\n",
    "plt.xlabel('n_episodes')\n",
    "plt.ylabel('n_step')\n",
    "plt.show()\n"
   ]
  },
  {
   "cell_type": "code",
   "execution_count": null,
   "metadata": {
    "colab": {
     "base_uri": "https://localhost:8080/",
     "height": 280
    },
    "executionInfo": {
     "elapsed": 13656,
     "status": "ok",
     "timestamp": 1609212133530,
     "user": {
      "displayName": "Yuetong Liu",
      "photoUrl": "https://lh3.googleusercontent.com/a-/AOh14Gjled0guJ9UlVUNssv1mWyc5TCUXbCOP3JIGHMPzQ=s64",
      "userId": "07904439503082268536"
     },
     "user_tz": 300
    },
    "id": "-aBlNJSdBGu1",
    "outputId": "c68087f8-e88f-400e-ba2e-16ccf51f9848"
   },
   "outputs": [
    {
     "data": {
      "image/png": "[encoded data removed]",
      "text/plain": [
       "<Figure size 432x288 with 1 Axes>"
      ]
     },
     "metadata": {
      "needs_background": "light",
      "tags": []
     },
     "output_type": "display_data"
    }
   ],
   "source": [
    "p = Piece(piece='king') # select a chess agent (knight, bishop or rook)\n",
    "env = Board() # 8*8 chess board\n",
    "r = Reinforce(p,env) \n",
    "eva = [] # numnbe of step to get to desired position\n",
    "\n",
    "for i in range(300):\n",
    "  r.sarsa_lambda(n_episodes=1, alpha=0.05, gamma=0.9)\n",
    "  states, actions, rewards = r.play_episode(state = (0,0), \n",
    "                                            max_steps=1e3, epsilon=0.1)\n",
    "  eva.append(len(actions))\n",
    "\n",
    "plt.plot(eva)\n",
    "plt.xlabel('n_episodes')\n",
    "plt.ylabel('n_step')\n",
    "plt.show()"
   ]
  }
 ],
 "metadata": {
  "colab": {
   "authorship_tag": "ABX9TyN2zPI5wQtY/065kbqUHZuk",
   "collapsed_sections": [],
   "name": "RL_Chess_Week_8.ipynb",
   "provenance": []
  },
  "kernelspec": {
   "display_name": "Python 3",
   "language": "python",
   "name": "python3"
  },
  "language_info": {
   "codemirror_mode": {
    "name": "ipython",
    "version": 3
   },
   "file_extension": ".py",
   "mimetype": "text/x-python",
   "name": "python",
   "nbconvert_exporter": "python",
   "pygments_lexer": "ipython3",
   "version": "3.8.5"
  }
 },
 "nbformat": 4,
 "nbformat_minor": 1
}
