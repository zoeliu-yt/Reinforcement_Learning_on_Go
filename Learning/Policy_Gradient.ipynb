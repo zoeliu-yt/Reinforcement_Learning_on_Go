{
 "cells": [
  {
   "cell_type": "markdown",
   "metadata": {},
   "source": [
    "# Policy Gradient Methods\n",
    "There are two major objectives \n",
    "1. Find a good policy (softmax, kernel, neural network parameterized policy)\n",
    "2. Optimize a performance objective (typically the expected cumulative reward $G_t$) by stochastic gradient ascent with respect to the policy parameters."
   ]
  },
  {
   "cell_type": "code",
   "execution_count": 1,
   "metadata": {},
   "outputs": [],
   "source": [
    "import gym\n",
    "import numpy as np\n",
    "import matplotlib.pyplot as plt\n",
    "import copy "
   ]
  },
  {
   "cell_type": "code",
   "execution_count": 2,
   "metadata": {},
   "outputs": [],
   "source": [
    "#Hyperparameters\n",
    "NUM_EPISODES = 10000\n",
    "LEARNING_RATE = 0.000025 # controls the rate or speed at which the model learns (step)\n",
    "GAMMA = 0.99 #discount factor, setting high for future reward.\n",
    "\n",
    "# Create gym and seed numpy\n",
    "env = gym.make('CartPole-v0')\n",
    "nA = env.action_space.n # number of possible moves\n",
    "np.random.seed(1)\n",
    "\n",
    "# Init weight (random)\n",
    "w = np.random.rand(4, 2)  #total discount reward function\n",
    "\n",
    "# Keep stats for final print of graph\n",
    "episode_rewards = []"
   ]
  },
  {
   "cell_type": "code",
   "execution_count": 3,
   "metadata": {},
   "outputs": [],
   "source": [
    "# Our policy that maps state to action parameterized by w \n",
    "def policy(state,w):\n",
    "    z = state.dot(w)\n",
    "    exp = np.exp(z)\n",
    "    return exp/np.sum(exp)"
   ]
  },
  {
   "cell_type": "code",
   "execution_count": 4,
   "metadata": {},
   "outputs": [],
   "source": [
    "# Vectorized softmax Jacobian\n",
    "def softmax_grad(softmax):\n",
    "    s = softmax.reshape(-1,1)\n",
    "    return np.diagflat(s) - np.dot(s, s.T)"
   ]
  },
  {
   "cell_type": "markdown",
   "metadata": {},
   "source": [
    "## Training Loop\n",
    "for each eposode:\n",
    "\n",
    "&nbsp; for each action:\n",
    "        1. Make action according to policy\n",
    "        2. Calculate the gradient of policy\n",
    "&nbsp; update w(total discount reward)"
   ]
  },
  {
   "cell_type": "markdown",
   "metadata": {},
   "source": [
    "## Softmax function: \n",
    "\n",
    "The softmax function takes an N-dimensional vector of arbitrary real values and produces another N-dimensional vector with real values in the range (0, 1) that add up to 1.0. (Time homogeneous?)\n",
    "\n",
    "$Softmax(s)=\\frac{e^{s*w}}{\\sum e^{s*w}}$\n",
    "\n"
   ]
  },
  {
   "cell_type": "markdown",
   "metadata": {},
   "source": [
    "$w = \\sum_{t} \\alpha*\\triangledown log(Softmax(s_t))*V_t$"
   ]
  },
  {
   "cell_type": "code",
   "execution_count": 5,
   "metadata": {},
   "outputs": [
    {
     "name": "stdout",
     "output_type": "stream",
     "text": [
      "EP: 9999 Score: 200.0         \r"
     ]
    }
   ],
   "source": [
    "# Main loop \n",
    "# Make sure you update your weights AFTER each episode\n",
    "for e in range(NUM_EPISODES):\n",
    "    \n",
    "    state = env.reset()[None,:]\n",
    "    grads = [] # Gradient\n",
    "    rewards = [] \n",
    "    \n",
    "    # Keep track of game score to print\n",
    "    score = 0\n",
    "    \n",
    "    # Each Episodes\n",
    "    while True:\n",
    "        \n",
    "        # Uncomment to see your model train in real time (slower)\n",
    "        #env.render()\n",
    "        \n",
    "        # Sample from policy and take action in environment\n",
    "        probs = policy(state,w) \n",
    "        action = np.random.choice(nA,p=probs[0]) \n",
    "        next_state,reward,done,_ = env.step(action) \n",
    "        next_state = next_state[None,:] \n",
    "\n",
    "        # Compute gradient and save with reward in memory for our weight updates\n",
    "        dsoftmax = softmax_grad(probs)[action,:]\n",
    "        dlog = dsoftmax / probs[0,action]\n",
    "        grad = state.T.dot(dlog[None,:])\n",
    "\n",
    "        grads.append(grad)\n",
    "        rewards.append(reward)\n",
    "        \n",
    "        score+=reward\n",
    "\n",
    "        # Dont forget to update your old state to the new state\n",
    "        state = next_state\n",
    "        \n",
    "        if done:\n",
    "            break\n",
    "\n",
    "    # Weight update\n",
    "    for i in range(len(grads)):\n",
    "        \n",
    "        # Loop through everything that happend in the episode and update towards the log policy gradient times **FUTURE** reward\n",
    "        w += LEARNING_RATE * grads[i] * sum([ r * (GAMMA ** t) for t,r in enumerate(rewards[i:])])\n",
    "        \n",
    "\n",
    "    # Append for logging and print\n",
    "    episode_rewards.append(score) \n",
    "    print(\"EP: \" + str(e) + \" Score: \" + str(score) + \"         \",end=\"\\r\", flush=False) \n"
   ]
  },
  {
   "cell_type": "code",
   "execution_count": 7,
   "metadata": {},
   "outputs": [
    {
     "data": {
      "image/png": "[encoded data removed]",
      "text/plain": [
       "<Figure size 432x288 with 1 Axes>"
      ]
     },
     "metadata": {
      "needs_background": "light"
     },
     "output_type": "display_data"
    }
   ],
   "source": [
    "plt.plot(np.arange(NUM_EPISODES),episode_rewards)\n",
    "plt.show()\n",
    "env.close()"
   ]
  },
  {
   "cell_type": "code",
   "execution_count": 6,
   "metadata": {},
   "outputs": [],
   "source": [
    "import pandas as pd\n",
    "df = pd.DataFrame(episode_rewards) \n",
    "df.to_csv('PG.csv') "
   ]
  },
  {
   "cell_type": "markdown",
   "metadata": {},
   "source": [
    "Alternative plot"
   ]
  }
 ],
 "metadata": {
  "kernelspec": {
   "display_name": "Python 3",
   "language": "python",
   "name": "python3"
  },
  "language_info": {
   "codemirror_mode": {
    "name": "ipython",
    "version": 3
   },
   "file_extension": ".py",
   "mimetype": "text/x-python",
   "name": "python",
   "nbconvert_exporter": "python",
   "pygments_lexer": "ipython3",
   "version": "3.8.5"
  }
 },
 "nbformat": 4,
 "nbformat_minor": 4
}
